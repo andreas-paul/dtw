{
 "cells": [
  {
   "cell_type": "code",
   "execution_count": 1,
   "id": "b2dcb0cd-24dc-488a-8751-5d89f4561b32",
   "metadata": {
    "tags": []
   },
   "outputs": [],
   "source": [
    "import os\n",
    "import sys\n",
    "import json\n",
    "import seaborn as sns\n",
    "import numpy as np\n",
    "import pandas as pd\n",
    "from loguru import logger as log"
   ]
  },
  {
   "cell_type": "code",
   "execution_count": 2,
   "id": "aed417f3-c60f-4827-81b7-34136fdb765b",
   "metadata": {
    "tags": []
   },
   "outputs": [],
   "source": [
    "# Custom packages\n",
    "from dtw import *\n",
    "from utils import convert_warp_path_to_timeseries\n",
    "from plotting import create_graph"
   ]
  },
  {
   "cell_type": "code",
   "execution_count": 3,
   "id": "9ba5a6e1-1232-40bf-9234-7edca631701e",
   "metadata": {
    "tags": []
   },
   "outputs": [],
   "source": [
    "log.remove()\n",
    "log.add(sys.stderr, level=\"DEBUG\");"
   ]
  },
  {
   "cell_type": "code",
   "execution_count": 4,
   "id": "f24a9ba2",
   "metadata": {},
   "outputs": [],
   "source": [
    "%load_ext autoreload\n",
    "%autoreload 2"
   ]
  },
  {
   "cell_type": "markdown",
   "id": "7bf55896-d5e3-4424-8792-b265333c37c7",
   "metadata": {},
   "source": [
    "#### Define initial parameters"
   ]
  },
  {
   "cell_type": "markdown",
   "id": "a474e167-02e8-47dd-a06e-199f14078870",
   "metadata": {},
   "source": [
    "For example, if biostratigraphic data indicates that the age of oldest sediments in the core cannot exceed 245,000 years, set the `max_age` variable to 245. Similarly, set the `min_age` variable to the minimum age you expect the core top to be. For piston core from the ocean bottom, it is a good idea to set this to 0, but if data is available, such as for example the topmost 10k years are missing, this variable can be set to start at something else than 0. "
   ]
  },
  {
   "cell_type": "code",
   "execution_count": 5,
   "id": "4599dd0e-48c0-4124-a2cf-fccc1a68ad0a",
   "metadata": {
    "tags": []
   },
   "outputs": [],
   "source": [
    "min_age = 0  # in kiloyears (kyrs) before present\n",
    "max_age = 600 # in kiloyears (kyrs) before present\n",
    "time_step = 5  # in kiloyears"
   ]
  },
  {
   "cell_type": "markdown",
   "id": "7df4df86-9001-4394-ba55-d6ce50ecab4d",
   "metadata": {},
   "source": [
    "#### Set parameters for the run"
   ]
  },
  {
   "cell_type": "code",
   "execution_count": 6,
   "id": "8477a170-bcfb-49c7-9f58-7c3a3507e1c4",
   "metadata": {
    "tags": []
   },
   "outputs": [],
   "source": [
    "# 2nd run\n",
    "# ref = \"1100\"\n",
    "# ref_path = f'out_warping-paths/dist-vs-time_core_{ref}_d18O_pl_LR04stack.txt'\n",
    "# ref_cols = ['time', 'value']\n",
    "# names = ['1150']\n",
    "# variables = ['d18O', 'aragonite']\n",
    "\n",
    "# # # Validation\n",
    "# ref = \"LR04stack\"\n",
    "# ref_path = f'data/{ref}.csv'\n",
    "# ref_cols = ['time', 'd18O']\n",
    "# names = ['validate_LR04']\n",
    "# variables = ['d18O']"
   ]
  },
  {
   "cell_type": "markdown",
   "id": "133e4875-bc5a-4095-ac9c-b24238143593",
   "metadata": {},
   "source": [
    "### Find best distance: LR04stack vs M74/4-1100"
   ]
  },
  {
   "cell_type": "markdown",
   "id": "253dcd5f-9805-4092-98cd-9fa16946141a",
   "metadata": {},
   "source": [
    "##### Run parameters"
   ]
  },
  {
   "cell_type": "code",
   "execution_count": 7,
   "id": "78d1b743-a2b2-4d07-b277-b4ea3b543cff",
   "metadata": {
    "tags": []
   },
   "outputs": [],
   "source": [
    "ref = \"LR04stack\"\n",
    "ref_path = f'../data/{ref}.csv'\n",
    "ref_cols = ['time', 'd18O']\n",
    "names = ['1100']\n",
    "variables = ['d18O', 'aragonite']"
   ]
  },
  {
   "cell_type": "markdown",
   "id": "d9d552e4-7613-494f-9c18-088bbda9f307",
   "metadata": {},
   "source": [
    "##### Load target (reference) data and limit by `min_age` and `max_age`"
   ]
  },
  {
   "cell_type": "code",
   "execution_count": 8,
   "id": "c921eeee-90d6-4c12-bebf-85987eeb6fdc",
   "metadata": {
    "tags": []
   },
   "outputs": [],
   "source": [
    "target = pd.read_csv(ref_path, usecols=ref_cols) \n",
    "target = target[target['time'] <= max_age]\n",
    "target = target[target['time'] >= min_age]"
   ]
  },
  {
   "cell_type": "code",
   "execution_count": 9,
   "id": "9e411bb4",
   "metadata": {},
   "outputs": [
    {
     "data": {
      "text/html": [
       "<div>\n",
       "<style scoped>\n",
       "    .dataframe tbody tr th:only-of-type {\n",
       "        vertical-align: middle;\n",
       "    }\n",
       "\n",
       "    .dataframe tbody tr th {\n",
       "        vertical-align: top;\n",
       "    }\n",
       "\n",
       "    .dataframe thead th {\n",
       "        text-align: right;\n",
       "    }\n",
       "</style>\n",
       "<table border=\"1\" class=\"dataframe\">\n",
       "  <thead>\n",
       "    <tr style=\"text-align: right;\">\n",
       "      <th></th>\n",
       "      <th>time</th>\n",
       "      <th>d18O</th>\n",
       "    </tr>\n",
       "  </thead>\n",
       "  <tbody>\n",
       "    <tr>\n",
       "      <th>0</th>\n",
       "      <td>0.0</td>\n",
       "      <td>3.23</td>\n",
       "    </tr>\n",
       "    <tr>\n",
       "      <th>1</th>\n",
       "      <td>1.0</td>\n",
       "      <td>3.23</td>\n",
       "    </tr>\n",
       "    <tr>\n",
       "      <th>2</th>\n",
       "      <td>2.0</td>\n",
       "      <td>3.18</td>\n",
       "    </tr>\n",
       "    <tr>\n",
       "      <th>3</th>\n",
       "      <td>3.0</td>\n",
       "      <td>3.29</td>\n",
       "    </tr>\n",
       "    <tr>\n",
       "      <th>4</th>\n",
       "      <td>4.0</td>\n",
       "      <td>3.30</td>\n",
       "    </tr>\n",
       "  </tbody>\n",
       "</table>\n",
       "</div>"
      ],
      "text/plain": [
       "   time  d18O\n",
       "0   0.0  3.23\n",
       "1   1.0  3.23\n",
       "2   2.0  3.18\n",
       "3   3.0  3.29\n",
       "4   4.0  3.30"
      ]
     },
     "execution_count": 9,
     "metadata": {},
     "output_type": "execute_result"
    }
   ],
   "source": [
    "target.head()"
   ]
  },
  {
   "cell_type": "markdown",
   "id": "e6ea32ee-bf38-4339-b3e5-a730b80b567a",
   "metadata": {},
   "source": [
    "##### Load unknown data"
   ]
  },
  {
   "cell_type": "code",
   "execution_count": 10,
   "id": "74fa5f5e-834b-4618-aa03-7bf758530ef5",
   "metadata": {
    "tags": []
   },
   "outputs": [],
   "source": [
    "data = pd.read_csv(f'../data/core_1100_d18O_pl.csv', skip_blank_lines=True)"
   ]
  },
  {
   "cell_type": "code",
   "execution_count": 11,
   "id": "6a599604",
   "metadata": {},
   "outputs": [
    {
     "data": {
      "text/html": [
       "<div>\n",
       "<style scoped>\n",
       "    .dataframe tbody tr th:only-of-type {\n",
       "        vertical-align: middle;\n",
       "    }\n",
       "\n",
       "    .dataframe tbody tr th {\n",
       "        vertical-align: top;\n",
       "    }\n",
       "\n",
       "    .dataframe thead th {\n",
       "        text-align: right;\n",
       "    }\n",
       "</style>\n",
       "<table border=\"1\" class=\"dataframe\">\n",
       "  <thead>\n",
       "    <tr style=\"text-align: right;\">\n",
       "      <th></th>\n",
       "      <th>depth_m</th>\n",
       "      <th>d18O_pl</th>\n",
       "    </tr>\n",
       "  </thead>\n",
       "  <tbody>\n",
       "    <tr>\n",
       "      <th>0</th>\n",
       "      <td>0.01</td>\n",
       "      <td>-1.924</td>\n",
       "    </tr>\n",
       "    <tr>\n",
       "      <th>1</th>\n",
       "      <td>0.06</td>\n",
       "      <td>-2.673</td>\n",
       "    </tr>\n",
       "    <tr>\n",
       "      <th>2</th>\n",
       "      <td>0.11</td>\n",
       "      <td>-2.551</td>\n",
       "    </tr>\n",
       "    <tr>\n",
       "      <th>3</th>\n",
       "      <td>0.16</td>\n",
       "      <td>-2.537</td>\n",
       "    </tr>\n",
       "    <tr>\n",
       "      <th>4</th>\n",
       "      <td>0.21</td>\n",
       "      <td>-2.290</td>\n",
       "    </tr>\n",
       "  </tbody>\n",
       "</table>\n",
       "</div>"
      ],
      "text/plain": [
       "   depth_m  d18O_pl\n",
       "0     0.01   -1.924\n",
       "1     0.06   -2.673\n",
       "2     0.11   -2.551\n",
       "3     0.16   -2.537\n",
       "4     0.21   -2.290"
      ]
     },
     "execution_count": 11,
     "metadata": {},
     "output_type": "execute_result"
    }
   ],
   "source": [
    "data.head()"
   ]
  },
  {
   "cell_type": "markdown",
   "id": "aca841bd-240b-424f-83af-b2bf5fa69bd4",
   "metadata": {},
   "source": [
    "##### Define DTW object"
   ]
  },
  {
   "cell_type": "code",
   "execution_count": 12,
   "id": "b3eea604-3398-44ce-ac46-0e54eccc76d9",
   "metadata": {
    "tags": []
   },
   "outputs": [
    {
     "name": "stderr",
     "output_type": "stream",
     "text": [
      "2023-04-01 21:02:50.505 | DEBUG    | dtw:__init__:77 - Time-warp object created successfully!\n"
     ]
    }
   ],
   "source": [
    "dtw = SedimentDTW(target=target['d18O'], \n",
    "                  data=data['d18O_pl'], \n",
    "                  normalize=True, \n",
    "                  smooth=True, \n",
    "                  window_size=11, \n",
    "                  polynomial=3)"
   ]
  },
  {
   "cell_type": "markdown",
   "id": "a6ca22fe-9502-43c9-85c1-4821f6444472",
   "metadata": {},
   "source": [
    "##### Find simple distance"
   ]
  },
  {
   "cell_type": "code",
   "execution_count": 13,
   "id": "78baea3b-230d-4dad-b699-0a23c2d112ac",
   "metadata": {
    "tags": []
   },
   "outputs": [
    {
     "name": "stdout",
     "output_type": "stream",
     "text": [
      "12.2\n"
     ]
    }
   ],
   "source": [
    "simple_distance = dtw.simple_distance()\n",
    "print(round(simple_distance, 2))"
   ]
  },
  {
   "cell_type": "markdown",
   "id": "ce3503c7-81d7-4777-9852-55adeefaffe8",
   "metadata": {},
   "source": [
    "##### Find minimum distance iteratively"
   ]
  },
  {
   "cell_type": "code",
   "execution_count": 14,
   "id": "8e2bcf2d-98f8-4100-8250-0ff429cc13fd",
   "metadata": {
    "tags": []
   },
   "outputs": [
    {
     "name": "stdout",
     "output_type": "stream",
     "text": [
      "Found minimum distance: 3.84 at target time 275 kyrs\n"
     ]
    }
   ],
   "source": [
    "distance, time, min_distances = dtw.find_min_distance(min_age, max_age, time_step)\n",
    "print(f'Found minimum distance: {round(distance, 2)} at target time {time} kyrs')"
   ]
  },
  {
   "cell_type": "code",
   "execution_count": 15,
   "id": "22657247",
   "metadata": {},
   "outputs": [
    {
     "data": {
      "text/plain": [
       "Text(0, 0.5, 'Distance')"
      ]
     },
     "execution_count": 15,
     "metadata": {},
     "output_type": "execute_result"
    },
    {
     "data": {
      "image/png": "[encoded data removed]",
      "text/plain": [
       "<Figure size 640x480 with 1 Axes>"
      ]
     },
     "metadata": {},
     "output_type": "display_data"
    }
   ],
   "source": [
    "sns.lineplot(x=min_distances.keys(), y=min_distances.values(), data=min_distances)\n",
    "plt.xlabel(\"Time [kyrs B.P.]\")\n",
    "plt.ylabel(\"Distance\")"
   ]
  },
  {
   "cell_type": "code",
   "execution_count": 16,
   "id": "aafa8b16",
   "metadata": {},
   "outputs": [
    {
     "data": {
      "text/plain": [
       "multiprocessing.managers.DictProxy"
      ]
     },
     "execution_count": 16,
     "metadata": {},
     "output_type": "execute_result"
    }
   ],
   "source": [
    "type(min_distances)"
   ]
  },
  {
   "cell_type": "code",
   "execution_count": null,
   "id": "8f730014",
   "metadata": {},
   "outputs": [],
   "source": []
  }
 ],
 "metadata": {
  "kernelspec": {
   "display_name": "Python 3 (ipykernel)",
   "language": "python",
   "name": "python3"
  },
  "language_info": {
   "codemirror_mode": {
    "name": "ipython",
    "version": 3
   },
   "file_extension": ".py",
   "mimetype": "text/x-python",
   "name": "python",
   "nbconvert_exporter": "python",
   "pygments_lexer": "ipython3",
   "version": "3.10.8"
  }
 },
 "nbformat": 4,
 "nbformat_minor": 5
}
