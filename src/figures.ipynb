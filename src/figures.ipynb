{
 "cells": [
  {
   "cell_type": "code",
   "execution_count": 122,
   "id": "a6d2f5a6-6630-4a49-b0fe-2925c5e24db1",
   "metadata": {
    "tags": []
   },
   "outputs": [],
   "source": [
    "import os\n",
    "import pandas as pd\n",
    "import numpy as np\n",
    "import seaborn as sns\n",
    "import matplotlib.pyplot as plt\n",
    "import matplotlib.ticker as ticker"
   ]
  },
  {
   "cell_type": "code",
   "execution_count": 123,
   "id": "5b68d975-767a-49cf-b82f-514fd396d49a",
   "metadata": {
    "tags": []
   },
   "outputs": [
    {
     "data": {
      "text/plain": [
       "['core_1100_dtw_agemodel.csv',\n",
       " 'LR04stack.csv',\n",
       " 'core_1100.csv',\n",
       " 'core_1100_d13C_pl.csv',\n",
       " 'core_1150_d13C_pl.csv',\n",
       " 'core_1100_d18O_pl.csv',\n",
       " 'core_1150_d13C_bulk.csv',\n",
       " 'core_1100_aragonite.csv',\n",
       " '.ipynb_checkpoints',\n",
       " 'core_1150_d18O_bulk.csv',\n",
       " 'core_1150.csv',\n",
       " 'core_1150_aragonite.csv',\n",
       " 'core_1150_d18O_pl.csv']"
      ]
     },
     "execution_count": 123,
     "metadata": {},
     "output_type": "execute_result"
    }
   ],
   "source": [
    "os.listdir('../data')"
   ]
  },
  {
   "cell_type": "code",
   "execution_count": 124,
   "id": "9569cc0d-2f20-4462-ab01-b7e6ab26f887",
   "metadata": {
    "tags": []
   },
   "outputs": [
    {
     "data": {
      "text/plain": [
       "['d18O_pl_LR04stack_core_1100_out.csv',\n",
       " 'd18O_pl_core_1100_dtw_agemodel_core_1150_out.csv',\n",
       " 'd18O_pl_LR04stack_core_1150_out.csv']"
      ]
     },
     "execution_count": 124,
     "metadata": {},
     "output_type": "execute_result"
    }
   ],
   "source": [
    "[x for x in os.listdir('../out') if x.endswith('.csv')]"
   ]
  },
  {
   "cell_type": "code",
   "execution_count": 125,
   "id": "23bbf773-0348-435b-a817-a4d5d03d77d8",
   "metadata": {
    "tags": []
   },
   "outputs": [],
   "source": [
    "df1 = pd.read_csv(\"../data/LR04stack.csv\")"
   ]
  },
  {
   "cell_type": "code",
   "execution_count": 126,
   "id": "fe0b3a18-67e9-466a-98e2-c358917c06ff",
   "metadata": {
    "tags": []
   },
   "outputs": [
    {
     "data": {
      "text/plain": [
       "Index(['time', 'd18O'], dtype='object')"
      ]
     },
     "execution_count": 126,
     "metadata": {},
     "output_type": "execute_result"
    }
   ],
   "source": [
    "df1.columns"
   ]
  },
  {
   "cell_type": "code",
   "execution_count": 127,
   "id": "311ecf9a-9a08-4a41-a4af-b1ea9531108b",
   "metadata": {
    "tags": []
   },
   "outputs": [],
   "source": [
    "df1 = df1[df1['time'] <= 280]"
   ]
  },
  {
   "cell_type": "code",
   "execution_count": 128,
   "id": "0913b9d9-5c67-4bb4-bd05-022e2bc72d2f",
   "metadata": {
    "tags": []
   },
   "outputs": [],
   "source": [
    "df2 = pd.read_csv(\"../out/d18O_pl_core_1100_dtw_agemodel_core_1150_out.csv\")"
   ]
  },
  {
   "cell_type": "code",
   "execution_count": 129,
   "id": "6efdcffa-4163-422f-8559-031893d7a18a",
   "metadata": {
    "tags": []
   },
   "outputs": [
    {
     "data": {
      "text/plain": [
       "Index(['depth_m', 'd18O_pl', 'dtw_time [kyrs B.P.]'], dtype='object')"
      ]
     },
     "execution_count": 129,
     "metadata": {},
     "output_type": "execute_result"
    }
   ],
   "source": [
    "df2.columns"
   ]
  },
  {
   "cell_type": "code",
   "execution_count": 130,
   "id": "dc0a7eab-7254-4acd-a264-f3695f123cbc",
   "metadata": {
    "tags": []
   },
   "outputs": [
    {
     "data": {
      "text/html": [
       "<div>\n",
       "<style scoped>\n",
       "    .dataframe tbody tr th:only-of-type {\n",
       "        vertical-align: middle;\n",
       "    }\n",
       "\n",
       "    .dataframe tbody tr th {\n",
       "        vertical-align: top;\n",
       "    }\n",
       "\n",
       "    .dataframe thead th {\n",
       "        text-align: right;\n",
       "    }\n",
       "</style>\n",
       "<table border=\"1\" class=\"dataframe\">\n",
       "  <thead>\n",
       "    <tr style=\"text-align: right;\">\n",
       "      <th></th>\n",
       "      <th>depth_m</th>\n",
       "      <th>d18O_pl</th>\n",
       "      <th>dtw_time [kyrs B.P.]</th>\n",
       "    </tr>\n",
       "  </thead>\n",
       "  <tbody>\n",
       "    <tr>\n",
       "      <th>0</th>\n",
       "      <td>0.01</td>\n",
       "      <td>-1.891</td>\n",
       "      <td>0</td>\n",
       "    </tr>\n",
       "    <tr>\n",
       "      <th>1</th>\n",
       "      <td>0.06</td>\n",
       "      <td>-1.525</td>\n",
       "      <td>1</td>\n",
       "    </tr>\n",
       "    <tr>\n",
       "      <th>2</th>\n",
       "      <td>0.11</td>\n",
       "      <td>-2.421</td>\n",
       "      <td>2</td>\n",
       "    </tr>\n",
       "    <tr>\n",
       "      <th>3</th>\n",
       "      <td>0.16</td>\n",
       "      <td>-2.422</td>\n",
       "      <td>2</td>\n",
       "    </tr>\n",
       "    <tr>\n",
       "      <th>4</th>\n",
       "      <td>0.21</td>\n",
       "      <td>-1.562</td>\n",
       "      <td>2</td>\n",
       "    </tr>\n",
       "    <tr>\n",
       "      <th>5</th>\n",
       "      <td>0.26</td>\n",
       "      <td>-1.293</td>\n",
       "      <td>2</td>\n",
       "    </tr>\n",
       "    <tr>\n",
       "      <th>6</th>\n",
       "      <td>0.31</td>\n",
       "      <td>-1.892</td>\n",
       "      <td>2</td>\n",
       "    </tr>\n",
       "    <tr>\n",
       "      <th>7</th>\n",
       "      <td>0.36</td>\n",
       "      <td>-1.697</td>\n",
       "      <td>2</td>\n",
       "    </tr>\n",
       "    <tr>\n",
       "      <th>8</th>\n",
       "      <td>0.41</td>\n",
       "      <td>-2.114</td>\n",
       "      <td>2</td>\n",
       "    </tr>\n",
       "    <tr>\n",
       "      <th>9</th>\n",
       "      <td>0.46</td>\n",
       "      <td>-1.534</td>\n",
       "      <td>2</td>\n",
       "    </tr>\n",
       "    <tr>\n",
       "      <th>10</th>\n",
       "      <td>0.51</td>\n",
       "      <td>-1.518</td>\n",
       "      <td>2</td>\n",
       "    </tr>\n",
       "    <tr>\n",
       "      <th>11</th>\n",
       "      <td>0.56</td>\n",
       "      <td>-1.603</td>\n",
       "      <td>2</td>\n",
       "    </tr>\n",
       "    <tr>\n",
       "      <th>12</th>\n",
       "      <td>0.61</td>\n",
       "      <td>-1.098</td>\n",
       "      <td>2</td>\n",
       "    </tr>\n",
       "    <tr>\n",
       "      <th>13</th>\n",
       "      <td>0.66</td>\n",
       "      <td>-1.699</td>\n",
       "      <td>2</td>\n",
       "    </tr>\n",
       "    <tr>\n",
       "      <th>14</th>\n",
       "      <td>0.71</td>\n",
       "      <td>-1.732</td>\n",
       "      <td>2</td>\n",
       "    </tr>\n",
       "    <tr>\n",
       "      <th>15</th>\n",
       "      <td>0.76</td>\n",
       "      <td>-1.892</td>\n",
       "      <td>6</td>\n",
       "    </tr>\n",
       "    <tr>\n",
       "      <th>16</th>\n",
       "      <td>0.81</td>\n",
       "      <td>-1.196</td>\n",
       "      <td>11</td>\n",
       "    </tr>\n",
       "    <tr>\n",
       "      <th>17</th>\n",
       "      <td>0.86</td>\n",
       "      <td>-2.960</td>\n",
       "      <td>12</td>\n",
       "    </tr>\n",
       "    <tr>\n",
       "      <th>18</th>\n",
       "      <td>0.91</td>\n",
       "      <td>-1.139</td>\n",
       "      <td>13</td>\n",
       "    </tr>\n",
       "    <tr>\n",
       "      <th>19</th>\n",
       "      <td>0.96</td>\n",
       "      <td>-1.047</td>\n",
       "      <td>13</td>\n",
       "    </tr>\n",
       "    <tr>\n",
       "      <th>20</th>\n",
       "      <td>1.01</td>\n",
       "      <td>-1.234</td>\n",
       "      <td>13</td>\n",
       "    </tr>\n",
       "    <tr>\n",
       "      <th>21</th>\n",
       "      <td>1.06</td>\n",
       "      <td>-1.131</td>\n",
       "      <td>13</td>\n",
       "    </tr>\n",
       "  </tbody>\n",
       "</table>\n",
       "</div>"
      ],
      "text/plain": [
       "    depth_m  d18O_pl  dtw_time [kyrs B.P.]\n",
       "0      0.01   -1.891                     0\n",
       "1      0.06   -1.525                     1\n",
       "2      0.11   -2.421                     2\n",
       "3      0.16   -2.422                     2\n",
       "4      0.21   -1.562                     2\n",
       "5      0.26   -1.293                     2\n",
       "6      0.31   -1.892                     2\n",
       "7      0.36   -1.697                     2\n",
       "8      0.41   -2.114                     2\n",
       "9      0.46   -1.534                     2\n",
       "10     0.51   -1.518                     2\n",
       "11     0.56   -1.603                     2\n",
       "12     0.61   -1.098                     2\n",
       "13     0.66   -1.699                     2\n",
       "14     0.71   -1.732                     2\n",
       "15     0.76   -1.892                     6\n",
       "16     0.81   -1.196                    11\n",
       "17     0.86   -2.960                    12\n",
       "18     0.91   -1.139                    13\n",
       "19     0.96   -1.047                    13\n",
       "20     1.01   -1.234                    13\n",
       "21     1.06   -1.131                    13"
      ]
     },
     "execution_count": 130,
     "metadata": {},
     "output_type": "execute_result"
    }
   ],
   "source": [
    "df2.head(22)"
   ]
  },
  {
   "cell_type": "code",
   "execution_count": 131,
   "id": "f8feeb22-e08c-48b5-bd48-d149a86bfaba",
   "metadata": {
    "tags": []
   },
   "outputs": [],
   "source": [
    "# Add 14C ages and interpolate\n",
    "df2.at[8, 'dtw_time [kyrs B.P.]'] = 5.120\n",
    "df2.at[20, 'dtw_time [kyrs B.P.]'] = 9.600"
   ]
  },
  {
   "cell_type": "code",
   "execution_count": 132,
   "id": "4fa9bfbc-a1f1-4fbd-9482-6ff0bc2f7a26",
   "metadata": {
    "tags": []
   },
   "outputs": [],
   "source": [
    "fill1 = np.linspace(0, 5.12, 8, endpoint=False)\n",
    "for x in range(1,8):\n",
    "    df2.at[x, 'dtw_time [kyrs B.P.]'] = fill1[x]"
   ]
  },
  {
   "cell_type": "code",
   "execution_count": 133,
   "id": "c8b671ff-a7d2-40b7-9bfd-c9f77dd8538f",
   "metadata": {
    "tags": []
   },
   "outputs": [],
   "source": [
    "fill2 = np.linspace(5.12, 9.6, 12, endpoint=False)\n",
    "for x in range(1, 12):\n",
    "    df2.at[x + 8, 'dtw_time [kyrs B.P.]'] = fill2[x]"
   ]
  },
  {
   "cell_type": "code",
   "execution_count": 134,
   "id": "48f73d83-9003-49e5-b39e-f086e9ef3bf6",
   "metadata": {
    "tags": []
   },
   "outputs": [],
   "source": [
    "df3 = pd.read_csv(\"../out/d18O_pl_LR04stack_core_1100_out.csv\")"
   ]
  },
  {
   "cell_type": "code",
   "execution_count": 135,
   "id": "30ba83d0-203f-4c78-a31c-f8b5c1946376",
   "metadata": {
    "tags": []
   },
   "outputs": [
    {
     "data": {
      "text/plain": [
       "Index(['depth_m', 'd18O_pl', 'dtw_time [kyrs B.P.]'], dtype='object')"
      ]
     },
     "execution_count": 135,
     "metadata": {},
     "output_type": "execute_result"
    }
   ],
   "source": [
    "df3.columns"
   ]
  },
  {
   "cell_type": "code",
   "execution_count": 136,
   "id": "5ffa14d0-89b6-41c7-b338-23d0a41076f4",
   "metadata": {
    "tags": []
   },
   "outputs": [],
   "source": [
    "df4 = pd.read_csv(\"../out/d18O_pl_LR04stack_core_1150_out.csv\")"
   ]
  },
  {
   "cell_type": "code",
   "execution_count": 137,
   "id": "ec98ab55-78fc-4341-9a2c-2e5a25d9891d",
   "metadata": {
    "tags": []
   },
   "outputs": [
    {
     "data": {
      "text/plain": [
       "Index(['depth_m', 'd18O_pl', 'dtw_time [kyrs B.P.]', 'sed_rates [m/kyr]'], dtype='object')"
      ]
     },
     "execution_count": 137,
     "metadata": {},
     "output_type": "execute_result"
    }
   ],
   "source": [
    "df4.columns"
   ]
  },
  {
   "cell_type": "code",
   "execution_count": 156,
   "id": "4250966b-4742-4e65-9b81-f99418fb4a7a",
   "metadata": {
    "tags": []
   },
   "outputs": [],
   "source": [
    "# Add 14C ages and interpolate\n",
    "df4.at[8, 'dtw_time [kyrs B.P.]'] = 5.120\n",
    "df4.at[20, 'dtw_time [kyrs B.P.]'] = 9.600"
   ]
  },
  {
   "cell_type": "code",
   "execution_count": 157,
   "id": "f2372ca0-edc6-4455-b5ea-860075974892",
   "metadata": {
    "tags": []
   },
   "outputs": [],
   "source": [
    "fill1 = np.linspace(0, 5.12, 8, endpoint=False)\n",
    "for x in range(1,8):\n",
    "    df4.at[x, 'dtw_time [kyrs B.P.]'] = fill1[x]"
   ]
  },
  {
   "cell_type": "code",
   "execution_count": 160,
   "id": "4b2730e3-3692-4597-8906-200a342e6a53",
   "metadata": {
    "tags": []
   },
   "outputs": [],
   "source": [
    "fill2 = np.linspace(5.12, 9.6, 12, endpoint=False)\n",
    "for x in range(1, 12):\n",
    "    df4.at[x + 8, 'dtw_time [kyrs B.P.]'] = fill2[x]"
   ]
  },
  {
   "cell_type": "code",
   "execution_count": 161,
   "id": "4d8b7ee3-0a6c-4983-a952-8c068bd14a5d",
   "metadata": {
    "tags": []
   },
   "outputs": [
    {
     "data": {
      "text/html": [
       "<div>\n",
       "<style scoped>\n",
       "    .dataframe tbody tr th:only-of-type {\n",
       "        vertical-align: middle;\n",
       "    }\n",
       "\n",
       "    .dataframe tbody tr th {\n",
       "        vertical-align: top;\n",
       "    }\n",
       "\n",
       "    .dataframe thead th {\n",
       "        text-align: right;\n",
       "    }\n",
       "</style>\n",
       "<table border=\"1\" class=\"dataframe\">\n",
       "  <thead>\n",
       "    <tr style=\"text-align: right;\">\n",
       "      <th></th>\n",
       "      <th>depth_m</th>\n",
       "      <th>d18O_pl</th>\n",
       "      <th>dtw_time [kyrs B.P.]</th>\n",
       "      <th>sed_rates [m/kyr]</th>\n",
       "    </tr>\n",
       "  </thead>\n",
       "  <tbody>\n",
       "    <tr>\n",
       "      <th>0</th>\n",
       "      <td>0.01</td>\n",
       "      <td>-1.891</td>\n",
       "      <td>0.000000</td>\n",
       "      <td>0.0000</td>\n",
       "    </tr>\n",
       "    <tr>\n",
       "      <th>1</th>\n",
       "      <td>0.06</td>\n",
       "      <td>-1.525</td>\n",
       "      <td>0.640000</td>\n",
       "      <td>0.0100</td>\n",
       "    </tr>\n",
       "    <tr>\n",
       "      <th>2</th>\n",
       "      <td>0.11</td>\n",
       "      <td>-2.421</td>\n",
       "      <td>1.280000</td>\n",
       "      <td>0.0125</td>\n",
       "    </tr>\n",
       "    <tr>\n",
       "      <th>3</th>\n",
       "      <td>0.16</td>\n",
       "      <td>-2.422</td>\n",
       "      <td>1.920000</td>\n",
       "      <td>0.0500</td>\n",
       "    </tr>\n",
       "    <tr>\n",
       "      <th>4</th>\n",
       "      <td>0.21</td>\n",
       "      <td>-1.562</td>\n",
       "      <td>2.560000</td>\n",
       "      <td>0.0500</td>\n",
       "    </tr>\n",
       "    <tr>\n",
       "      <th>5</th>\n",
       "      <td>0.26</td>\n",
       "      <td>-1.293</td>\n",
       "      <td>3.200000</td>\n",
       "      <td>0.0500</td>\n",
       "    </tr>\n",
       "    <tr>\n",
       "      <th>6</th>\n",
       "      <td>0.31</td>\n",
       "      <td>-1.892</td>\n",
       "      <td>3.840000</td>\n",
       "      <td>0.0500</td>\n",
       "    </tr>\n",
       "    <tr>\n",
       "      <th>7</th>\n",
       "      <td>0.36</td>\n",
       "      <td>-1.697</td>\n",
       "      <td>4.480000</td>\n",
       "      <td>0.0500</td>\n",
       "    </tr>\n",
       "    <tr>\n",
       "      <th>8</th>\n",
       "      <td>0.41</td>\n",
       "      <td>-2.114</td>\n",
       "      <td>5.120000</td>\n",
       "      <td>0.0500</td>\n",
       "    </tr>\n",
       "    <tr>\n",
       "      <th>9</th>\n",
       "      <td>0.46</td>\n",
       "      <td>-1.534</td>\n",
       "      <td>5.493333</td>\n",
       "      <td>0.0500</td>\n",
       "    </tr>\n",
       "    <tr>\n",
       "      <th>10</th>\n",
       "      <td>0.51</td>\n",
       "      <td>-1.518</td>\n",
       "      <td>5.866667</td>\n",
       "      <td>0.0500</td>\n",
       "    </tr>\n",
       "    <tr>\n",
       "      <th>11</th>\n",
       "      <td>0.56</td>\n",
       "      <td>-1.603</td>\n",
       "      <td>6.240000</td>\n",
       "      <td>0.0500</td>\n",
       "    </tr>\n",
       "    <tr>\n",
       "      <th>12</th>\n",
       "      <td>0.61</td>\n",
       "      <td>-1.098</td>\n",
       "      <td>6.613333</td>\n",
       "      <td>0.0500</td>\n",
       "    </tr>\n",
       "    <tr>\n",
       "      <th>13</th>\n",
       "      <td>0.66</td>\n",
       "      <td>-1.699</td>\n",
       "      <td>6.986667</td>\n",
       "      <td>0.0500</td>\n",
       "    </tr>\n",
       "    <tr>\n",
       "      <th>14</th>\n",
       "      <td>0.71</td>\n",
       "      <td>-1.732</td>\n",
       "      <td>7.360000</td>\n",
       "      <td>0.0500</td>\n",
       "    </tr>\n",
       "    <tr>\n",
       "      <th>15</th>\n",
       "      <td>0.76</td>\n",
       "      <td>-1.892</td>\n",
       "      <td>7.733333</td>\n",
       "      <td>0.0500</td>\n",
       "    </tr>\n",
       "    <tr>\n",
       "      <th>16</th>\n",
       "      <td>0.81</td>\n",
       "      <td>-1.196</td>\n",
       "      <td>8.106667</td>\n",
       "      <td>0.0500</td>\n",
       "    </tr>\n",
       "    <tr>\n",
       "      <th>17</th>\n",
       "      <td>0.86</td>\n",
       "      <td>-2.960</td>\n",
       "      <td>8.480000</td>\n",
       "      <td>0.0500</td>\n",
       "    </tr>\n",
       "    <tr>\n",
       "      <th>18</th>\n",
       "      <td>0.91</td>\n",
       "      <td>-1.139</td>\n",
       "      <td>8.853333</td>\n",
       "      <td>0.0500</td>\n",
       "    </tr>\n",
       "    <tr>\n",
       "      <th>19</th>\n",
       "      <td>0.96</td>\n",
       "      <td>-1.047</td>\n",
       "      <td>9.226667</td>\n",
       "      <td>0.0500</td>\n",
       "    </tr>\n",
       "    <tr>\n",
       "      <th>20</th>\n",
       "      <td>1.01</td>\n",
       "      <td>-1.234</td>\n",
       "      <td>9.600000</td>\n",
       "      <td>0.0500</td>\n",
       "    </tr>\n",
       "    <tr>\n",
       "      <th>21</th>\n",
       "      <td>1.06</td>\n",
       "      <td>-1.131</td>\n",
       "      <td>15.000000</td>\n",
       "      <td>0.0500</td>\n",
       "    </tr>\n",
       "  </tbody>\n",
       "</table>\n",
       "</div>"
      ],
      "text/plain": [
       "    depth_m  d18O_pl  dtw_time [kyrs B.P.]  sed_rates [m/kyr]\n",
       "0      0.01   -1.891              0.000000             0.0000\n",
       "1      0.06   -1.525              0.640000             0.0100\n",
       "2      0.11   -2.421              1.280000             0.0125\n",
       "3      0.16   -2.422              1.920000             0.0500\n",
       "4      0.21   -1.562              2.560000             0.0500\n",
       "5      0.26   -1.293              3.200000             0.0500\n",
       "6      0.31   -1.892              3.840000             0.0500\n",
       "7      0.36   -1.697              4.480000             0.0500\n",
       "8      0.41   -2.114              5.120000             0.0500\n",
       "9      0.46   -1.534              5.493333             0.0500\n",
       "10     0.51   -1.518              5.866667             0.0500\n",
       "11     0.56   -1.603              6.240000             0.0500\n",
       "12     0.61   -1.098              6.613333             0.0500\n",
       "13     0.66   -1.699              6.986667             0.0500\n",
       "14     0.71   -1.732              7.360000             0.0500\n",
       "15     0.76   -1.892              7.733333             0.0500\n",
       "16     0.81   -1.196              8.106667             0.0500\n",
       "17     0.86   -2.960              8.480000             0.0500\n",
       "18     0.91   -1.139              8.853333             0.0500\n",
       "19     0.96   -1.047              9.226667             0.0500\n",
       "20     1.01   -1.234              9.600000             0.0500\n",
       "21     1.06   -1.131             15.000000             0.0500"
      ]
     },
     "execution_count": 161,
     "metadata": {},
     "output_type": "execute_result"
    }
   ],
   "source": [
    "df4.head(22)"
   ]
  },
  {
   "cell_type": "code",
   "execution_count": 258,
   "id": "4b99c7a7-6cf5-48f3-8bbb-4d9e34c5debe",
   "metadata": {
    "tags": []
   },
   "outputs": [
    {
     "data": {
      "image/png": "[encoded data removed]",
      "text/plain": [
       "<Figure size 1000x500 with 1 Axes>"
      ]
     },
     "metadata": {},
     "output_type": "display_data"
    }
   ],
   "source": [
    "f, ax = plt.subplots(1, 1)\n",
    "f.set_size_inches(10,5)\n",
    "sns.lineplot(ax=ax, x='time', y='d18O', data=df1)\n",
    "sns.lineplot(ax=ax, x='dtw_time [kyrs B.P.]', y='d18O_pl', data=df2, estimator=None, color='red', linewidth=1)\n",
    "sns.lineplot(ax=ax, x='dtw_time [kyrs B.P.]', y='d18O_pl', data=df3, estimator=None, color='blue', linewidth=1, label='1100')\n",
    "sns.lineplot(ax=ax, x='dtw_time [kyrs B.P.]', y='d18O_pl', data=df4, estimator=None, color='green', linewidth=1, label='1150')\n",
    "ax.invert_yaxis()\n"
   ]
  },
  {
   "cell_type": "code",
   "execution_count": 163,
   "id": "f3725b4b-b990-4bea-9f37-e8a2675eb760",
   "metadata": {
    "tags": []
   },
   "outputs": [],
   "source": [
    "f.savefig('../out/fig05.svg')"
   ]
  },
  {
   "cell_type": "code",
   "execution_count": 140,
   "id": "d24cd8f2-a031-4956-926b-33297b399a16",
   "metadata": {},
   "outputs": [],
   "source": [
    "tmp1 = pd.read_csv(\"../data/core_1150_aragonite.csv\", skip_blank_lines=True)"
   ]
  },
  {
   "cell_type": "code",
   "execution_count": 141,
   "id": "c05b7e1a-80b0-4856-b11d-13315ecca0f7",
   "metadata": {
    "tags": []
   },
   "outputs": [],
   "source": [
    "tmp2 = pd.read_csv(\"../data/core_1150_d18O_pl.csv\", skip_blank_lines=True)"
   ]
  },
  {
   "cell_type": "code",
   "execution_count": 142,
   "id": "9c30c572-a40d-46ad-b8d5-9528705edce5",
   "metadata": {
    "tags": []
   },
   "outputs": [
    {
     "data": {
      "image/png": "[encoded data removed]",
      "text/plain": [
       "<Figure size 640x480 with 2 Axes>"
      ]
     },
     "metadata": {},
     "output_type": "display_data"
    }
   ],
   "source": [
    "fig, ax = plt.subplots(2, 1)\n",
    "sns.lineplot(ax=ax[0], x=tmp1['depth_m'], y=tmp1['aragonite'])\n",
    "sns.lineplot(ax=ax[1], x=tmp2['depth_m'], y=tmp2['d18O_pl'])\n",
    "ax[1].invert_yaxis()"
   ]
  },
  {
   "cell_type": "code",
   "execution_count": 143,
   "id": "4d23c020-6220-4e79-85ef-19489dcd188b",
   "metadata": {
    "tags": []
   },
   "outputs": [],
   "source": [
    "fig.savefig('../out/tmp.png', dpi=300)"
   ]
  },
  {
   "cell_type": "markdown",
   "id": "58d6baba-1a5c-4468-85bb-61afea14400b",
   "metadata": {},
   "source": [
    "## SEDIMENTATION RATES"
   ]
  },
  {
   "cell_type": "markdown",
   "id": "d8616b05-c846-4aee-9b24-133038ea8ab1",
   "metadata": {
    "tags": []
   },
   "source": [
    "#### 1100"
   ]
  },
  {
   "cell_type": "code",
   "execution_count": 187,
   "id": "dc66505d-9b6e-4433-b7c7-0a19cdc9fcd8",
   "metadata": {
    "tags": []
   },
   "outputs": [
    {
     "data": {
      "text/html": [
       "<div>\n",
       "<style scoped>\n",
       "    .dataframe tbody tr th:only-of-type {\n",
       "        vertical-align: middle;\n",
       "    }\n",
       "\n",
       "    .dataframe tbody tr th {\n",
       "        vertical-align: top;\n",
       "    }\n",
       "\n",
       "    .dataframe thead th {\n",
       "        text-align: right;\n",
       "    }\n",
       "</style>\n",
       "<table border=\"1\" class=\"dataframe\">\n",
       "  <thead>\n",
       "    <tr style=\"text-align: right;\">\n",
       "      <th></th>\n",
       "      <th>depth_m</th>\n",
       "      <th>d18O_pl</th>\n",
       "      <th>dtw_time [kyrs B.P.]</th>\n",
       "    </tr>\n",
       "  </thead>\n",
       "  <tbody>\n",
       "    <tr>\n",
       "      <th>0</th>\n",
       "      <td>0.01</td>\n",
       "      <td>-1.924</td>\n",
       "      <td>0.0</td>\n",
       "    </tr>\n",
       "    <tr>\n",
       "      <th>1</th>\n",
       "      <td>0.06</td>\n",
       "      <td>-2.673</td>\n",
       "      <td>0.0</td>\n",
       "    </tr>\n",
       "    <tr>\n",
       "      <th>2</th>\n",
       "      <td>0.11</td>\n",
       "      <td>-2.551</td>\n",
       "      <td>0.0</td>\n",
       "    </tr>\n",
       "    <tr>\n",
       "      <th>3</th>\n",
       "      <td>0.16</td>\n",
       "      <td>-2.537</td>\n",
       "      <td>1.0</td>\n",
       "    </tr>\n",
       "    <tr>\n",
       "      <th>4</th>\n",
       "      <td>0.21</td>\n",
       "      <td>-2.290</td>\n",
       "      <td>2.0</td>\n",
       "    </tr>\n",
       "    <tr>\n",
       "      <th>5</th>\n",
       "      <td>0.26</td>\n",
       "      <td>-2.603</td>\n",
       "      <td>2.0</td>\n",
       "    </tr>\n",
       "    <tr>\n",
       "      <th>6</th>\n",
       "      <td>0.31</td>\n",
       "      <td>-2.554</td>\n",
       "      <td>6.0</td>\n",
       "    </tr>\n",
       "    <tr>\n",
       "      <th>7</th>\n",
       "      <td>0.36</td>\n",
       "      <td>-2.608</td>\n",
       "      <td>11.0</td>\n",
       "    </tr>\n",
       "    <tr>\n",
       "      <th>8</th>\n",
       "      <td>0.41</td>\n",
       "      <td>-2.490</td>\n",
       "      <td>12.0</td>\n",
       "    </tr>\n",
       "    <tr>\n",
       "      <th>9</th>\n",
       "      <td>0.46</td>\n",
       "      <td>-1.489</td>\n",
       "      <td>13.0</td>\n",
       "    </tr>\n",
       "    <tr>\n",
       "      <th>10</th>\n",
       "      <td>0.51</td>\n",
       "      <td>-0.754</td>\n",
       "      <td>15.0</td>\n",
       "    </tr>\n",
       "  </tbody>\n",
       "</table>\n",
       "</div>"
      ],
      "text/plain": [
       "    depth_m  d18O_pl  dtw_time [kyrs B.P.]\n",
       "0      0.01   -1.924                   0.0\n",
       "1      0.06   -2.673                   0.0\n",
       "2      0.11   -2.551                   0.0\n",
       "3      0.16   -2.537                   1.0\n",
       "4      0.21   -2.290                   2.0\n",
       "5      0.26   -2.603                   2.0\n",
       "6      0.31   -2.554                   6.0\n",
       "7      0.36   -2.608                  11.0\n",
       "8      0.41   -2.490                  12.0\n",
       "9      0.46   -1.489                  13.0\n",
       "10     0.51   -0.754                  15.0"
      ]
     },
     "execution_count": 187,
     "metadata": {},
     "output_type": "execute_result"
    }
   ],
   "source": [
    "df3.head(11)"
   ]
  },
  {
   "cell_type": "code",
   "execution_count": 189,
   "id": "dc7c6c85-00ec-4d23-84c1-129c27c04a1d",
   "metadata": {
    "tags": []
   },
   "outputs": [
    {
     "data": {
      "text/plain": [
       "3.3333333333333335"
      ]
     },
     "execution_count": 189,
     "metadata": {},
     "output_type": "execute_result"
    }
   ],
   "source": [
    "0.5/15 * 100"
   ]
  },
  {
   "cell_type": "code",
   "execution_count": 172,
   "id": "4a088560-13b4-4be4-83df-8071e25cc3d8",
   "metadata": {
    "tags": []
   },
   "outputs": [
    {
     "data": {
      "text/plain": [
       "282"
      ]
     },
     "execution_count": 172,
     "metadata": {},
     "output_type": "execute_result"
    }
   ],
   "source": [
    "len(df3['depth_m'])"
   ]
  },
  {
   "cell_type": "code",
   "execution_count": 213,
   "id": "0b8dc061-b514-4274-af90-7ce166f27054",
   "metadata": {
    "tags": []
   },
   "outputs": [
    {
     "name": "stdout",
     "output_type": "stream",
     "text": [
      "Rate is 0\n"
     ]
    }
   ],
   "source": [
    "rates_1100 = dict()\n",
    "previous_age = list()\n",
    "for num, i in enumerate(np.arange(0, 281, 10)):\n",
    "    \n",
    "    depth =  df3.at[i, 'depth_m']\n",
    "    age = df3.at[i, 'dtw_time [kyrs B.P.]']\n",
    "      \n",
    "    if len(previous_age) <= 0:\n",
    "        rates_1100[num] = [depth, age, 0.0]\n",
    "        print('Rate is 0')\n",
    "    else:    \n",
    "        time_delta = age - previous_age[-1]\n",
    "        if time_delta <= 0:\n",
    "            rate = 0.0\n",
    "        else:\n",
    "            rate = 0.5 / time_delta * 100\n",
    "        rates_1100[num] = [depth, age, round(rate, 1)]\n",
    "        \n",
    "    previous_age.append(age)\n",
    "    "
   ]
  },
  {
   "cell_type": "code",
   "execution_count": 217,
   "id": "22a3d708-b938-410e-a7fd-0e95623e807f",
   "metadata": {
    "tags": []
   },
   "outputs": [
    {
     "data": {
      "text/plain": [
       "{0: [0.01, 0.0, 0.0],\n",
       " 1: [0.51, 15.0, 3.3],\n",
       " 2: [1.01, 56.0, 1.2],\n",
       " 3: [1.51, 71.0, 3.3],\n",
       " 4: [2.01, 88.0, 2.9],\n",
       " 5: [2.51, 89.0, 50.0],\n",
       " 6: [3.01, 98.0, 5.6],\n",
       " 7: [3.51, 109.0, 4.5],\n",
       " 8: [4.01, 114.0, 10.0],\n",
       " 9: [4.61, 121.0, 7.1],\n",
       " 10: [5.11, 132.0, 4.5],\n",
       " 11: [5.61, 155.0, 2.2],\n",
       " 12: [6.11, 161.0, 8.3],\n",
       " 13: [6.61, 185.0, 2.1],\n",
       " 14: [7.11, 191.0, 8.3],\n",
       " 15: [7.61, 193.0, 25.0],\n",
       " 16: [8.11, 218.0, 2.0],\n",
       " 17: [8.61, 223.0, 10.0],\n",
       " 18: [9.11, 226.0, 16.7],\n",
       " 19: [9.61, 229.0, 16.7],\n",
       " 20: [10.11, 229.0, 0.0],\n",
       " 21: [10.61, 230.0, 50.0],\n",
       " 22: [11.11, 230.0, 0.0],\n",
       " 23: [11.61, 232.0, 25.0],\n",
       " 24: [12.11, 235.0, 16.7],\n",
       " 25: [12.61, 244.0, 5.6],\n",
       " 26: [13.11, 253.0, 5.6],\n",
       " 27: [13.61, 268.0, 3.3],\n",
       " 28: [14.11, 274.0, 8.3]}"
      ]
     },
     "execution_count": 217,
     "metadata": {},
     "output_type": "execute_result"
    }
   ],
   "source": [
    "rates_1100"
   ]
  },
  {
   "cell_type": "code",
   "execution_count": 233,
   "id": "3129fe0c-1724-4e94-b76b-856e51529bab",
   "metadata": {
    "tags": []
   },
   "outputs": [],
   "source": [
    "rates_1100 = pd.DataFrame(rates_1100).transpose()"
   ]
  },
  {
   "cell_type": "code",
   "execution_count": 234,
   "id": "7de38a1b-1d45-4e31-bf24-e6db910ccc5a",
   "metadata": {
    "tags": []
   },
   "outputs": [],
   "source": [
    "rates_1100 = rates_1100.rename(columns={0:'depth', 1:'age', 2:'sed-rate'})"
   ]
  },
  {
   "cell_type": "markdown",
   "id": "98616840-5ebb-4c25-a21b-fb6a70442910",
   "metadata": {},
   "source": [
    "#### 1150"
   ]
  },
  {
   "cell_type": "code",
   "execution_count": 227,
   "id": "7ec6833f-a8fc-4271-be19-5e640cbd6662",
   "metadata": {
    "tags": []
   },
   "outputs": [
    {
     "data": {
      "text/plain": [
       "290"
      ]
     },
     "execution_count": 227,
     "metadata": {},
     "output_type": "execute_result"
    }
   ],
   "source": [
    "len(df4)"
   ]
  },
  {
   "cell_type": "code",
   "execution_count": 228,
   "id": "e50c8c4e-cd63-4086-906e-75a7af4b1a52",
   "metadata": {
    "tags": []
   },
   "outputs": [
    {
     "name": "stdout",
     "output_type": "stream",
     "text": [
      "Rate is 0\n"
     ]
    }
   ],
   "source": [
    "rates_1150 = dict()\n",
    "previous_age = list()\n",
    "for num, i in enumerate(np.arange(0, 290, 10)):\n",
    "    \n",
    "    depth =  df4.at[i, 'depth_m']\n",
    "    age = df4.at[i, 'dtw_time [kyrs B.P.]']\n",
    "      \n",
    "    if len(previous_age) <= 0:\n",
    "        rates_1150[num] = [depth, age, 0.0]\n",
    "        print('Rate is 0')\n",
    "    else:    \n",
    "        time_delta = age - previous_age[-1]\n",
    "        if time_delta <= 0:\n",
    "            rate = 0.0\n",
    "        else:\n",
    "            rate = 0.5 / time_delta * 100\n",
    "        rates_1150[num] = [depth, age, round(rate, 1)]\n",
    "        \n",
    "    previous_age.append(age)"
   ]
  },
  {
   "cell_type": "code",
   "execution_count": 229,
   "id": "de2cbd8c-e98a-4f9c-bdac-fc5cd60d41b5",
   "metadata": {
    "tags": []
   },
   "outputs": [
    {
     "data": {
      "text/plain": [
       "{0: [0.01, 0.0, 0.0],\n",
       " 1: [0.51, 5.866666666666667, 8.5],\n",
       " 2: [1.01, 9.6, 13.4],\n",
       " 3: [1.51, 42.0, 1.5],\n",
       " 4: [2.01, 51.0, 5.6],\n",
       " 5: [2.51, 52.0, 50.0],\n",
       " 6: [3.01, 52.0, 0.0],\n",
       " 7: [3.51, 55.0, 16.7],\n",
       " 8: [4.01, 60.0, 10.0],\n",
       " 9: [4.51, 62.0, 25.0],\n",
       " 10: [5.01, 70.0, 6.2],\n",
       " 11: [5.51, 81.0, 4.5],\n",
       " 12: [6.01, 82.0, 50.0],\n",
       " 13: [6.51, 87.0, 10.0],\n",
       " 14: [7.01, 100.0, 3.8],\n",
       " 15: [7.51, 128.0, 1.8],\n",
       " 16: [8.01, 129.0, 50.0],\n",
       " 17: [8.51, 129.0, 0.0],\n",
       " 18: [9.01, 132.0, 16.7],\n",
       " 19: [9.51, 132.0, 0.0],\n",
       " 20: [10.01, 132.0, 0.0],\n",
       " 21: [10.51, 132.0, 0.0],\n",
       " 22: [11.01, 132.0, 0.0],\n",
       " 23: [11.51, 132.0, 0.0],\n",
       " 24: [12.01, 132.0, 0.0],\n",
       " 25: [12.51, 132.0, 0.0],\n",
       " 26: [13.01, 132.0, 0.0],\n",
       " 27: [13.51, 132.0, 0.0],\n",
       " 28: [14.01, 132.0, 0.0]}"
      ]
     },
     "execution_count": 229,
     "metadata": {},
     "output_type": "execute_result"
    }
   ],
   "source": [
    "rates_1150"
   ]
  },
  {
   "cell_type": "code",
   "execution_count": 230,
   "id": "06f261f7-e5cd-4b2c-80ae-98037bdca10c",
   "metadata": {
    "tags": []
   },
   "outputs": [],
   "source": [
    "rates_1150 = pd.DataFrame(rates_1150).transpose()\n",
    "rates_1150 = rates_1150.rename(columns={0:'depth', 1:'age', 2:'sed-rate'})"
   ]
  },
  {
   "cell_type": "code",
   "execution_count": 232,
   "id": "f254646a-9187-4a5c-9a50-9f4061d83b59",
   "metadata": {
    "tags": []
   },
   "outputs": [
    {
     "data": {
      "text/plain": [
       "{0: [0.01, 0.0, 0.0],\n",
       " 1: [0.51, 15.0, 3.3],\n",
       " 2: [1.01, 56.0, 1.2],\n",
       " 3: [1.51, 71.0, 3.3],\n",
       " 4: [2.01, 88.0, 2.9],\n",
       " 5: [2.51, 89.0, 50.0],\n",
       " 6: [3.01, 98.0, 5.6],\n",
       " 7: [3.51, 109.0, 4.5],\n",
       " 8: [4.01, 114.0, 10.0],\n",
       " 9: [4.61, 121.0, 7.1],\n",
       " 10: [5.11, 132.0, 4.5],\n",
       " 11: [5.61, 155.0, 2.2],\n",
       " 12: [6.11, 161.0, 8.3],\n",
       " 13: [6.61, 185.0, 2.1],\n",
       " 14: [7.11, 191.0, 8.3],\n",
       " 15: [7.61, 193.0, 25.0],\n",
       " 16: [8.11, 218.0, 2.0],\n",
       " 17: [8.61, 223.0, 10.0],\n",
       " 18: [9.11, 226.0, 16.7],\n",
       " 19: [9.61, 229.0, 16.7],\n",
       " 20: [10.11, 229.0, 0.0],\n",
       " 21: [10.61, 230.0, 50.0],\n",
       " 22: [11.11, 230.0, 0.0],\n",
       " 23: [11.61, 232.0, 25.0],\n",
       " 24: [12.11, 235.0, 16.7],\n",
       " 25: [12.61, 244.0, 5.6],\n",
       " 26: [13.11, 253.0, 5.6],\n",
       " 27: [13.61, 268.0, 3.3],\n",
       " 28: [14.11, 274.0, 8.3]}"
      ]
     },
     "execution_count": 232,
     "metadata": {},
     "output_type": "execute_result"
    }
   ],
   "source": [
    "rates_1100"
   ]
  },
  {
   "cell_type": "code",
   "execution_count": 237,
   "id": "bbae0575-2d3b-481f-a903-b8d243e538fe",
   "metadata": {
    "tags": []
   },
   "outputs": [
    {
     "data": {
      "text/plain": [
       "<Axes: xlabel='age', ylabel='sed-rate'>"
      ]
     },
     "execution_count": 237,
     "metadata": {},
     "output_type": "execute_result"
    },
    {
     "data": {
      "image/png": "[encoded data removed]",
      "text/plain": [
       "<Figure size 640x480 with 1 Axes>"
      ]
     },
     "metadata": {},
     "output_type": "display_data"
    }
   ],
   "source": [
    "fig, ax = plt.subplots(1,1)\n",
    "sns.lineplot(ax=ax, x='age', y='sed-rate', data=rates_1100, estimator=None)\n",
    "sns.lineplot(ax=ax, x='age', y='sed-rate', data=rates_1150, estimator=None)"
   ]
  },
  {
   "cell_type": "code",
   "execution_count": 238,
   "id": "15578412-58b9-4636-b145-003e24df5f1b",
   "metadata": {
    "tags": []
   },
   "outputs": [],
   "source": [
    "fig.savefig('../out/sed-rates.svg')"
   ]
  },
  {
   "cell_type": "markdown",
   "id": "d8d54ab4-084b-4640-93e7-1cf361508fc0",
   "metadata": {},
   "source": [
    "## Time-Depth model"
   ]
  },
  {
   "cell_type": "code",
   "execution_count": 252,
   "id": "8f5ec8f9-2add-4dea-b3ee-c9c4e7fd17f1",
   "metadata": {
    "tags": []
   },
   "outputs": [],
   "source": [
    "old_model_1100 = pd.read_csv('../data/core_1100-old-agemodel.csv', sep=';', decimal=',')"
   ]
  },
  {
   "cell_type": "code",
   "execution_count": 253,
   "id": "d267f186-d148-499f-8645-f5ec3f037197",
   "metadata": {
    "tags": []
   },
   "outputs": [
    {
     "data": {
      "text/html": [
       "<div>\n",
       "<style scoped>\n",
       "    .dataframe tbody tr th:only-of-type {\n",
       "        vertical-align: middle;\n",
       "    }\n",
       "\n",
       "    .dataframe tbody tr th {\n",
       "        vertical-align: top;\n",
       "    }\n",
       "\n",
       "    .dataframe thead th {\n",
       "        text-align: right;\n",
       "    }\n",
       "</style>\n",
       "<table border=\"1\" class=\"dataframe\">\n",
       "  <thead>\n",
       "    <tr style=\"text-align: right;\">\n",
       "      <th></th>\n",
       "      <th>depth_m</th>\n",
       "      <th>time</th>\n",
       "    </tr>\n",
       "  </thead>\n",
       "  <tbody>\n",
       "    <tr>\n",
       "      <th>0</th>\n",
       "      <td>0.01</td>\n",
       "      <td>0.000000</td>\n",
       "    </tr>\n",
       "    <tr>\n",
       "      <th>1</th>\n",
       "      <td>0.06</td>\n",
       "      <td>0.899604</td>\n",
       "    </tr>\n",
       "    <tr>\n",
       "      <th>2</th>\n",
       "      <td>0.11</td>\n",
       "      <td>1.799208</td>\n",
       "    </tr>\n",
       "    <tr>\n",
       "      <th>3</th>\n",
       "      <td>0.16</td>\n",
       "      <td>3.598416</td>\n",
       "    </tr>\n",
       "    <tr>\n",
       "      <th>4</th>\n",
       "      <td>0.21</td>\n",
       "      <td>5.397624</td>\n",
       "    </tr>\n",
       "  </tbody>\n",
       "</table>\n",
       "</div>"
      ],
      "text/plain": [
       "   depth_m      time\n",
       "0     0.01  0.000000\n",
       "1     0.06  0.899604\n",
       "2     0.11  1.799208\n",
       "3     0.16  3.598416\n",
       "4     0.21  5.397624"
      ]
     },
     "execution_count": 253,
     "metadata": {},
     "output_type": "execute_result"
    }
   ],
   "source": [
    "old_model_1100.head()"
   ]
  },
  {
   "cell_type": "code",
   "execution_count": 239,
   "id": "57f45bd2-8c8e-4f95-a6d2-7a3ff278ca72",
   "metadata": {
    "tags": []
   },
   "outputs": [
    {
     "data": {
      "text/plain": [
       "Index(['depth_m', 'd18O_pl', 'dtw_time [kyrs B.P.]'], dtype='object')"
      ]
     },
     "execution_count": 239,
     "metadata": {},
     "output_type": "execute_result"
    }
   ],
   "source": [
    "df3.columns"
   ]
  },
  {
   "cell_type": "code",
   "execution_count": 256,
   "id": "374bcea3-edc9-4b99-b380-d15d9dd6880c",
   "metadata": {
    "tags": []
   },
   "outputs": [
    {
     "data": {
      "image/png": "[encoded data removed]",
      "text/plain": [
       "<Figure size 640x480 with 1 Axes>"
      ]
     },
     "metadata": {},
     "output_type": "display_data"
    }
   ],
   "source": [
    "fig, ax = plt.subplots(1,1)\n",
    "sns.lineplot(ax=ax, x='dtw_time [kyrs B.P.]', y='depth_m', data=df3, label='1100')\n",
    "sns.lineplot(ax=ax, x='dtw_time [kyrs B.P.]', y='depth_m', data=df4, label='1150')\n",
    "sns.lineplot(ax=ax, x='dtw_time [kyrs B.P.]', y='depth_m', data=df2, label='1150 (1100 age model)')\n",
    "sns.lineplot(ax=ax, x='time', y='depth_m', data=old_model_1100, label='1100 (manual age model)')\n",
    "ax.invert_yaxis()"
   ]
  },
  {
   "cell_type": "code",
   "execution_count": 257,
   "id": "1b571353-da9e-4e8c-8122-de1dde4eaee7",
   "metadata": {
    "tags": []
   },
   "outputs": [],
   "source": [
    "fig.savefig('../out/time-depth-model.svg')"
   ]
  },
  {
   "cell_type": "code",
   "execution_count": null,
   "id": "77116019-69dd-4dac-851b-d3f113fe4ffc",
   "metadata": {},
   "outputs": [],
   "source": []
  }
 ],
 "metadata": {
  "kernelspec": {
   "display_name": "Python 3 (ipykernel)",
   "language": "python",
   "name": "python3"
  },
  "language_info": {
   "codemirror_mode": {
    "name": "ipython",
    "version": 3
   },
   "file_extension": ".py",
   "mimetype": "text/x-python",
   "name": "python",
   "nbconvert_exporter": "python",
   "pygments_lexer": "ipython3",
   "version": "3.10.8"
  }
 },
 "nbformat": 4,
 "nbformat_minor": 5
}
