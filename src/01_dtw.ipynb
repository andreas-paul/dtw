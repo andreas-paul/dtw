{
 "cells": [
  {
   "cell_type": "code",
   "execution_count": 2,
   "id": "b2dcb0cd-24dc-488a-8751-5d89f4561b32",
   "metadata": {
    "tags": []
   },
   "outputs": [],
   "source": [
    "import os\n",
    "import sys\n",
    "import json\n",
    "import seaborn as sns\n",
    "import numpy as np\n",
    "import pandas as pd\n",
    "import matplotlib.pyplot as plt\n",
    "from loguru import logger as log\n",
    "from typing import Union\n",
    "from dtaidistance import dtw_visualisation as dtwvis"
   ]
  },
  {
   "cell_type": "code",
   "execution_count": 178,
   "id": "aed417f3-c60f-4827-81b7-34136fdb765b",
   "metadata": {
    "tags": []
   },
   "outputs": [],
   "source": [
    "# Custom packages\n",
    "from sediment_dtw import *\n",
    "from utils import convert_warp_path_to_timeseries\n",
    "from plotting import create_graph"
   ]
  },
  {
   "cell_type": "code",
   "execution_count": 179,
   "id": "9ba5a6e1-1232-40bf-9234-7edca631701e",
   "metadata": {
    "tags": []
   },
   "outputs": [],
   "source": [
    "log.remove()\n",
    "log.add(sys.stderr, level=\"DEBUG\");"
   ]
  },
  {
   "cell_type": "code",
   "execution_count": 180,
   "id": "f24a9ba2",
   "metadata": {
    "tags": []
   },
   "outputs": [
    {
     "name": "stdout",
     "output_type": "stream",
     "text": [
      "The autoreload extension is already loaded. To reload it, use:\n",
      "  %reload_ext autoreload\n"
     ]
    }
   ],
   "source": [
    "%load_ext autoreload\n",
    "%autoreload 2"
   ]
  },
  {
   "cell_type": "markdown",
   "id": "7bf55896-d5e3-4424-8792-b265333c37c7",
   "metadata": {},
   "source": [
    "#### Define initial parameters"
   ]
  },
  {
   "cell_type": "markdown",
   "id": "a474e167-02e8-47dd-a06e-199f14078870",
   "metadata": {},
   "source": [
    "For example, if biostratigraphic data indicates that the age of oldest sediments in the core cannot exceed 245,000 years, set the `max_age` variable to 245. Similarly, set the `min_age` variable to the minimum age you expect the core top to be. For piston core from the ocean bottom, it is a good idea to set this to 0, but if data is available, such as for example the topmost 10k years are missing, this variable can be set to start at something else than 0. "
   ]
  },
  {
   "cell_type": "code",
   "execution_count": 181,
   "id": "4599dd0e-48c0-4124-a2cf-fccc1a68ad0a",
   "metadata": {
    "tags": []
   },
   "outputs": [],
   "source": [
    "min_age = 71  # in kiloyears (kyrs) before present\n",
    "max_age = 600 # in kiloyears (kyrs) before present\n",
    "time_step = 5  # in kiloyears"
   ]
  },
  {
   "cell_type": "markdown",
   "id": "133e4875-bc5a-4095-ac9c-b24238143593",
   "metadata": {},
   "source": [
    "### Find optimal distance between two time-series"
   ]
  },
  {
   "cell_type": "markdown",
   "id": "253dcd5f-9805-4092-98cd-9fa16946141a",
   "metadata": {},
   "source": [
    "#### Run parameters"
   ]
  },
  {
   "cell_type": "markdown",
   "id": "2edcfced-8dab-4127-bece-cd12c788e2e1",
   "metadata": {},
   "source": [
    "Define the name, location and variable (column) names of the target/reference curve here."
   ]
  },
  {
   "cell_type": "code",
   "execution_count": 182,
   "id": "431ab708",
   "metadata": {
    "tags": []
   },
   "outputs": [],
   "source": [
    "ref = \"LR04stack\"\n",
    "# ref = \"core_1100_conventional_agemodel\"\n",
    "# ref = \"core_1100_dtw_agemodel\"\n",
    "ref_path = f'../data/{ref}.csv'\n",
    "ref_cols = ['time', 'd18O']"
   ]
  },
  {
   "cell_type": "markdown",
   "id": "d9d552e4-7613-494f-9c18-088bbda9f307",
   "metadata": {
    "tags": []
   },
   "source": [
    "#### Load target (reference) data and limit by `min_age` and `max_age`"
   ]
  },
  {
   "cell_type": "markdown",
   "id": "8b035e6e-4c2f-4b2e-9309-0d8fdd1fc868",
   "metadata": {},
   "source": [
    "Load target data, and filter by expected minimum and maximum age (`min_age`, `max_age`) "
   ]
  },
  {
   "cell_type": "code",
   "execution_count": 183,
   "id": "c921eeee-90d6-4c12-bebf-85987eeb6fdc",
   "metadata": {
    "tags": []
   },
   "outputs": [],
   "source": [
    "target = pd.read_csv(ref_path, usecols=ref_cols) \n",
    "target = target[target['time'] <= max_age]\n",
    "target = target[target['time'] >= min_age]"
   ]
  },
  {
   "cell_type": "markdown",
   "id": "7e869a5b-f3ae-42ad-aec6-2119a68da65a",
   "metadata": {},
   "source": [
    "The next step is only executed if the dtw_age model for this specific core is to be used, in this case 1100. This age model was created in a previous iteration of this method."
   ]
  },
  {
   "cell_type": "code",
   "execution_count": 184,
   "id": "c00b5d4c",
   "metadata": {
    "tags": []
   },
   "outputs": [],
   "source": [
    "if ref == \"core_1100_dtw_agemodel\":\n",
    "    log.debug(\"Resampling reference time curve\")\n",
    "    target = pd.DataFrame(target.groupby('time', as_index=False)['d18O'].median())"
   ]
  },
  {
   "cell_type": "code",
   "execution_count": 185,
   "id": "03d84414",
   "metadata": {
    "tags": []
   },
   "outputs": [],
   "source": [
    "target = target.reset_index(drop=True)"
   ]
  },
  {
   "cell_type": "code",
   "execution_count": 186,
   "id": "81e9f118-ac5b-47a7-88f8-1f0f487b761a",
   "metadata": {
    "tags": []
   },
   "outputs": [
    {
     "data": {
      "text/html": [
       "<div>\n",
       "<style scoped>\n",
       "    .dataframe tbody tr th:only-of-type {\n",
       "        vertical-align: middle;\n",
       "    }\n",
       "\n",
       "    .dataframe tbody tr th {\n",
       "        vertical-align: top;\n",
       "    }\n",
       "\n",
       "    .dataframe thead th {\n",
       "        text-align: right;\n",
       "    }\n",
       "</style>\n",
       "<table border=\"1\" class=\"dataframe\">\n",
       "  <thead>\n",
       "    <tr style=\"text-align: right;\">\n",
       "      <th></th>\n",
       "      <th>time</th>\n",
       "      <th>d18O</th>\n",
       "    </tr>\n",
       "  </thead>\n",
       "  <tbody>\n",
       "    <tr>\n",
       "      <th>0</th>\n",
       "      <td>71.0</td>\n",
       "      <td>4.22</td>\n",
       "    </tr>\n",
       "    <tr>\n",
       "      <th>1</th>\n",
       "      <td>72.0</td>\n",
       "      <td>4.21</td>\n",
       "    </tr>\n",
       "  </tbody>\n",
       "</table>\n",
       "</div>"
      ],
      "text/plain": [
       "   time  d18O\n",
       "0  71.0  4.22\n",
       "1  72.0  4.21"
      ]
     },
     "execution_count": 186,
     "metadata": {},
     "output_type": "execute_result"
    }
   ],
   "source": [
    "target.head(2)"
   ]
  },
  {
   "cell_type": "markdown",
   "id": "e6ea32ee-bf38-4339-b3e5-a730b80b567a",
   "metadata": {},
   "source": [
    "#### Load data curve (unknown time interval)"
   ]
  },
  {
   "cell_type": "code",
   "execution_count": 187,
   "id": "74fa5f5e-834b-4618-aa03-7bf758530ef5",
   "metadata": {
    "tags": []
   },
   "outputs": [],
   "source": [
    "# source = \"../data/core_1100_d18O_pl.csv\"\n",
    "# source = \"../data/core_1150_d18O_pl.csv\"\n",
    "# source = \"../data/core_1150_d18O_split_1.csv\"\n",
    "# source = \"../data/core_1150_aragonite_split_1.csv\"\n",
    "source = \"../data/core_1150_d18O_bulk_split_1.csv\" "
   ]
  },
  {
   "cell_type": "code",
   "execution_count": 188,
   "id": "6245da08-8a86-4a27-ac43-b00a457ec852",
   "metadata": {
    "tags": []
   },
   "outputs": [
    {
     "data": {
      "text/html": [
       "<div>\n",
       "<style scoped>\n",
       "    .dataframe tbody tr th:only-of-type {\n",
       "        vertical-align: middle;\n",
       "    }\n",
       "\n",
       "    .dataframe tbody tr th {\n",
       "        vertical-align: top;\n",
       "    }\n",
       "\n",
       "    .dataframe thead th {\n",
       "        text-align: right;\n",
       "    }\n",
       "</style>\n",
       "<table border=\"1\" class=\"dataframe\">\n",
       "  <thead>\n",
       "    <tr style=\"text-align: right;\">\n",
       "      <th></th>\n",
       "      <th>depth_m</th>\n",
       "      <th>d18O_bulk</th>\n",
       "    </tr>\n",
       "  </thead>\n",
       "  <tbody>\n",
       "    <tr>\n",
       "      <th>0</th>\n",
       "      <td>2.06</td>\n",
       "      <td>-1.136975</td>\n",
       "    </tr>\n",
       "    <tr>\n",
       "      <th>1</th>\n",
       "      <td>2.11</td>\n",
       "      <td>-1.552736</td>\n",
       "    </tr>\n",
       "  </tbody>\n",
       "</table>\n",
       "</div>"
      ],
      "text/plain": [
       "   depth_m  d18O_bulk\n",
       "0     2.06  -1.136975\n",
       "1     2.11  -1.552736"
      ]
     },
     "execution_count": 188,
     "metadata": {},
     "output_type": "execute_result"
    }
   ],
   "source": [
    "source_name = source.split(\"/\")\n",
    "source_name = source_name[-1].split(\"_\")[:2]\n",
    "source_name = \"_\".join(source_name)\n",
    "\n",
    "source_var = source.split(\"/\")\n",
    "source_var = source_var[-1].split(\"_\")[2:]\n",
    "source_var = \"_\".join(source_var)\n",
    "source_var = source_var.split(\".\")[0]\n",
    "\n",
    "data = pd.read_csv(source, skip_blank_lines=True)\n",
    "data.head(2)"
   ]
  },
  {
   "cell_type": "code",
   "execution_count": 189,
   "id": "ec25091d-4164-42fe-af5b-2f49ead717d8",
   "metadata": {
    "tags": []
   },
   "outputs": [
    {
     "data": {
      "text/plain": [
       "'core_1150'"
      ]
     },
     "execution_count": 189,
     "metadata": {},
     "output_type": "execute_result"
    }
   ],
   "source": [
    "source_name"
   ]
  },
  {
   "cell_type": "code",
   "execution_count": 190,
   "id": "fc227361-7407-4fc4-875a-02ef6284b7a0",
   "metadata": {
    "tags": []
   },
   "outputs": [
    {
     "data": {
      "text/plain": [
       "'d18O_bulk_split_1'"
      ]
     },
     "execution_count": 190,
     "metadata": {},
     "output_type": "execute_result"
    }
   ],
   "source": [
    "source_var"
   ]
  },
  {
   "cell_type": "code",
   "execution_count": 191,
   "id": "b5b59041-adb1-431e-9fff-bc5160f859ac",
   "metadata": {
    "tags": []
   },
   "outputs": [
    {
     "data": {
      "text/plain": [
       "'d18O_bulk'"
      ]
     },
     "execution_count": 191,
     "metadata": {},
     "output_type": "execute_result"
    }
   ],
   "source": [
    "data_col = data.columns[1]\n",
    "data_col"
   ]
  },
  {
   "cell_type": "markdown",
   "id": "aca841bd-240b-424f-83af-b2bf5fa69bd4",
   "metadata": {},
   "source": [
    "#### Define DTW object"
   ]
  },
  {
   "cell_type": "code",
   "execution_count": 192,
   "id": "b3eea604-3398-44ce-ac46-0e54eccc76d9",
   "metadata": {
    "tags": []
   },
   "outputs": [
    {
     "name": "stderr",
     "output_type": "stream",
     "text": [
      "2023-05-04 22:30:49.441 | DEBUG    | sediment_dtw:__init__:91 - Time-warp object created successfully!\n"
     ]
    }
   ],
   "source": [
    "dtw = SedimentDTW(target=target, \n",
    "                  data=data, \n",
    "                  normalize=True, \n",
    "                  smooth=True, \n",
    "                  window_size=11, \n",
    "                  polynomial=3)"
   ]
  },
  {
   "cell_type": "markdown",
   "id": "a6ca22fe-9502-43c9-85c1-4821f6444472",
   "metadata": {},
   "source": [
    "##### Find simple distance"
   ]
  },
  {
   "cell_type": "code",
   "execution_count": 193,
   "id": "78baea3b-230d-4dad-b699-0a23c2d112ac",
   "metadata": {
    "tags": []
   },
   "outputs": [
    {
     "name": "stdout",
     "output_type": "stream",
     "text": [
      "14.73\n"
     ]
    }
   ],
   "source": [
    "simple_distance = dtw.simple_distance()\n",
    "print(round(simple_distance, 2))"
   ]
  },
  {
   "cell_type": "markdown",
   "id": "ce3503c7-81d7-4777-9852-55adeefaffe8",
   "metadata": {},
   "source": [
    "##### Find minimum distance iteratively"
   ]
  },
  {
   "cell_type": "code",
   "execution_count": 194,
   "id": "8e2bcf2d-98f8-4100-8250-0ff429cc13fd",
   "metadata": {
    "tags": []
   },
   "outputs": [
    {
     "name": "stderr",
     "output_type": "stream",
     "text": [
      "2023-05-04 22:30:54.330 | DEBUG    | sediment_dtw:find_min_distance:194 - 5.540740958460823, 5.540740958460823\n"
     ]
    },
    {
     "name": "stdout",
     "output_type": "stream",
     "text": [
      "Found minimum distance: 5.54 at target time 261 kyrs\n"
     ]
    }
   ],
   "source": [
    "distance, time, min_distances = dtw.find_min_distance(min_age, max_age, time_step, warp_path=True)\n",
    "print(f'Found minimum distance: {round(distance, 2)} at target time {time} kyrs')"
   ]
  },
  {
   "cell_type": "markdown",
   "id": "dd7be1f2-f105-46c7-a761-a0c9d99d8d29",
   "metadata": {},
   "source": [
    "##### Save min_distances to file"
   ]
  },
  {
   "cell_type": "code",
   "execution_count": 195,
   "id": "5e825380-1cb1-4192-86a1-72e73aa43d33",
   "metadata": {
    "tags": []
   },
   "outputs": [],
   "source": [
    "_tmp_df = pd.DataFrame(min_distances.keys(),min_distances.values()).reset_index(drop=False).rename(columns={'index': 'distance', 0: 'time'})\n",
    "_tmp_df.to_csv(f\"../out/core_1150_min_distances_{source_var}_ref-{ref}.csv\", index=False)"
   ]
  },
  {
   "cell_type": "markdown",
   "id": "4ce9979e-08a8-4ab2-b4cc-7aa546beb07c",
   "metadata": {},
   "source": [
    "#### Create age models"
   ]
  },
  {
   "cell_type": "code",
   "execution_count": 196,
   "id": "d2982677",
   "metadata": {
    "tags": []
   },
   "outputs": [],
   "source": [
    "def select_all_pairs(warp_path, index):\n",
    "    pairs = list()\n",
    "    for pair in warp_path:\n",
    "        if pair[0] == index:\n",
    "            pairs.append(pair)\n",
    "    return pairs"
   ]
  },
  {
   "cell_type": "code",
   "execution_count": 197,
   "id": "a82fb1bd",
   "metadata": {
    "tags": []
   },
   "outputs": [],
   "source": [
    "def select_max_from_pairs(pairs):\n",
    "    values = list()\n",
    "    for pair in pairs:\n",
    "        values.append(pair[1])\n",
    "    return max(values)"
   ]
  },
  {
   "cell_type": "code",
   "execution_count": 198,
   "id": "f62e4ddb",
   "metadata": {
    "tags": []
   },
   "outputs": [],
   "source": [
    "def convert_warp_path_to_timeseries(target: Union[list, np.array, pd.Series], \n",
    "                                    data: Union[list, np.array, pd.Series],\n",
    "                                    warp_path: list[tuple]):\n",
    "    \n",
    "    dtw_time_axis = list()\n",
    "    for index, _ in enumerate(data):\n",
    "        pairs = select_all_pairs(warp_path, index)\n",
    "        maximum = select_max_from_pairs(pairs)\n",
    "        dtw_time_axis.append(target[maximum])\n",
    "\n",
    "    assert len(dtw_time_axis) == len(data)\n",
    "    return dtw_time_axis"
   ]
  },
  {
   "cell_type": "code",
   "execution_count": 199,
   "id": "1746bf5c",
   "metadata": {
    "tags": []
   },
   "outputs": [],
   "source": [
    "dtw_time_axis = convert_warp_path_to_timeseries(target['time'], data['depth_m'], dtw.best_path)"
   ]
  },
  {
   "cell_type": "code",
   "execution_count": 200,
   "id": "973aa8ce",
   "metadata": {
    "tags": []
   },
   "outputs": [],
   "source": [
    "data['time'] = dtw_time_axis"
   ]
  },
  {
   "cell_type": "code",
   "execution_count": 201,
   "id": "95453584-1270-4c27-8a9e-e37c46ba4697",
   "metadata": {
    "tags": []
   },
   "outputs": [
    {
     "data": {
      "text/html": [
       "<div>\n",
       "<style scoped>\n",
       "    .dataframe tbody tr th:only-of-type {\n",
       "        vertical-align: middle;\n",
       "    }\n",
       "\n",
       "    .dataframe tbody tr th {\n",
       "        vertical-align: top;\n",
       "    }\n",
       "\n",
       "    .dataframe thead th {\n",
       "        text-align: right;\n",
       "    }\n",
       "</style>\n",
       "<table border=\"1\" class=\"dataframe\">\n",
       "  <thead>\n",
       "    <tr style=\"text-align: right;\">\n",
       "      <th></th>\n",
       "      <th>depth_m</th>\n",
       "      <th>d18O_bulk</th>\n",
       "      <th>time</th>\n",
       "    </tr>\n",
       "  </thead>\n",
       "  <tbody>\n",
       "    <tr>\n",
       "      <th>0</th>\n",
       "      <td>2.06</td>\n",
       "      <td>-1.136975</td>\n",
       "      <td>71.0</td>\n",
       "    </tr>\n",
       "    <tr>\n",
       "      <th>1</th>\n",
       "      <td>2.11</td>\n",
       "      <td>-1.552736</td>\n",
       "      <td>105.0</td>\n",
       "    </tr>\n",
       "    <tr>\n",
       "      <th>2</th>\n",
       "      <td>2.21</td>\n",
       "      <td>-0.923401</td>\n",
       "      <td>112.0</td>\n",
       "    </tr>\n",
       "    <tr>\n",
       "      <th>3</th>\n",
       "      <td>2.26</td>\n",
       "      <td>-1.603000</td>\n",
       "      <td>113.0</td>\n",
       "    </tr>\n",
       "    <tr>\n",
       "      <th>4</th>\n",
       "      <td>2.31</td>\n",
       "      <td>-1.509563</td>\n",
       "      <td>114.0</td>\n",
       "    </tr>\n",
       "  </tbody>\n",
       "</table>\n",
       "</div>"
      ],
      "text/plain": [
       "   depth_m  d18O_bulk   time\n",
       "0     2.06  -1.136975   71.0\n",
       "1     2.11  -1.552736  105.0\n",
       "2     2.21  -0.923401  112.0\n",
       "3     2.26  -1.603000  113.0\n",
       "4     2.31  -1.509563  114.0"
      ]
     },
     "execution_count": 201,
     "metadata": {},
     "output_type": "execute_result"
    }
   ],
   "source": [
    "data.head()"
   ]
  },
  {
   "cell_type": "code",
   "execution_count": 202,
   "id": "789c5539-4ad1-4cef-8525-465b78b73628",
   "metadata": {
    "tags": []
   },
   "outputs": [
    {
     "name": "stdout",
     "output_type": "stream",
     "text": [
      "d18O_bulk LR04stack core_1150 d18O_bulk_split_1\n"
     ]
    }
   ],
   "source": [
    "print(data_col, ref, source_name, source_var)"
   ]
  },
  {
   "cell_type": "code",
   "execution_count": 203,
   "id": "651f79d5-95ef-4c59-b180-64c348a75b7b",
   "metadata": {
    "tags": []
   },
   "outputs": [],
   "source": [
    "data.to_csv(f\"../out/{source_name}_{source_var}_{ref}_out.csv\", index=False)"
   ]
  },
  {
   "cell_type": "markdown",
   "id": "adc5a58e-fa19-4490-b4cc-432b3e4f2919",
   "metadata": {},
   "source": [
    "#### Combine conventional and DTW age model if required"
   ]
  },
  {
   "cell_type": "code",
   "execution_count": 204,
   "id": "ba334cc7-2dfb-4c30-b763-0d85f62adc37",
   "metadata": {
    "tags": []
   },
   "outputs": [
    {
     "data": {
      "text/html": [
       "<div>\n",
       "<style scoped>\n",
       "    .dataframe tbody tr th:only-of-type {\n",
       "        vertical-align: middle;\n",
       "    }\n",
       "\n",
       "    .dataframe tbody tr th {\n",
       "        vertical-align: top;\n",
       "    }\n",
       "\n",
       "    .dataframe thead th {\n",
       "        text-align: right;\n",
       "    }\n",
       "</style>\n",
       "<table border=\"1\" class=\"dataframe\">\n",
       "  <thead>\n",
       "    <tr style=\"text-align: right;\">\n",
       "      <th></th>\n",
       "      <th>depth_m</th>\n",
       "      <th>d18O_bulk</th>\n",
       "      <th>time</th>\n",
       "    </tr>\n",
       "  </thead>\n",
       "  <tbody>\n",
       "    <tr>\n",
       "      <th>0</th>\n",
       "      <td>2.06</td>\n",
       "      <td>-1.136975</td>\n",
       "      <td>71.0</td>\n",
       "    </tr>\n",
       "    <tr>\n",
       "      <th>1</th>\n",
       "      <td>2.11</td>\n",
       "      <td>-1.552736</td>\n",
       "      <td>105.0</td>\n",
       "    </tr>\n",
       "  </tbody>\n",
       "</table>\n",
       "</div>"
      ],
      "text/plain": [
       "   depth_m  d18O_bulk   time\n",
       "0     2.06  -1.136975   71.0\n",
       "1     2.11  -1.552736  105.0"
      ]
     },
     "execution_count": 204,
     "metadata": {},
     "output_type": "execute_result"
    }
   ],
   "source": [
    "data.head(2)"
   ]
  },
  {
   "cell_type": "code",
   "execution_count": 205,
   "id": "c765728c-5fb0-455b-9b06-ba72d9d46f5a",
   "metadata": {},
   "outputs": [
    {
     "ename": "SyntaxError",
     "evalue": "invalid syntax (1763773627.py, line 1)",
     "output_type": "error",
     "traceback": [
      "\u001b[0;36m  Cell \u001b[0;32mIn[205], line 1\u001b[0;36m\u001b[0m\n\u001b[0;31m    =\u001b[0m\n\u001b[0m    ^\u001b[0m\n\u001b[0;31mSyntaxError\u001b[0m\u001b[0;31m:\u001b[0m invalid syntax\n"
     ]
    }
   ],
   "source": [
    "="
   ]
  },
  {
   "cell_type": "code",
   "execution_count": null,
   "id": "17566697-d6d3-4feb-9c81-796f8f7b88aa",
   "metadata": {
    "tags": []
   },
   "outputs": [],
   "source": [
    "_tmp = pd.read_csv(\"../out/time-depth-models/tdm_core_1150_d18O_LR04stack_out.csv\")"
   ]
  },
  {
   "cell_type": "code",
   "execution_count": null,
   "id": "043d5ca6-390d-40e3-9add-d90119a474bd",
   "metadata": {
    "tags": []
   },
   "outputs": [],
   "source": [
    "_tmp.head(5)"
   ]
  },
  {
   "cell_type": "code",
   "execution_count": null,
   "id": "eacb4c71-8e4f-4b23-9485-92ecd76eacc4",
   "metadata": {
    "tags": []
   },
   "outputs": [],
   "source": [
    "_tmp_2 = pd.read_csv(\"../data/core_1150_aragonite_split_0.csv\")"
   ]
  },
  {
   "cell_type": "code",
   "execution_count": null,
   "id": "0b045124-bdfc-4b4f-863b-281ace9f434e",
   "metadata": {
    "tags": []
   },
   "outputs": [],
   "source": [
    "_tmp_2['time'] = _tmp_2['depth_m'].map(dict(zip(_tmp['depth_m'], _tmp['time'])))"
   ]
  },
  {
   "cell_type": "code",
   "execution_count": null,
   "id": "d0ce459f-9a7a-4400-91e1-13cf6bfe1025",
   "metadata": {
    "tags": []
   },
   "outputs": [],
   "source": [
    "_tmp_2"
   ]
  },
  {
   "cell_type": "code",
   "execution_count": null,
   "id": "82c97ad5-dad3-46e9-8456-89fb243dfc9d",
   "metadata": {
    "tags": []
   },
   "outputs": [],
   "source": [
    "time_depth_model = pd.concat([_tmp_2, data]).reset_index(drop=True)"
   ]
  },
  {
   "cell_type": "code",
   "execution_count": null,
   "id": "9bcaa787-fc12-475e-b71d-5f2b8c338fe8",
   "metadata": {
    "tags": []
   },
   "outputs": [],
   "source": [
    "time_depth_model"
   ]
  },
  {
   "cell_type": "code",
   "execution_count": null,
   "id": "3fe331ad-3dad-49f5-99bb-9884e0339c02",
   "metadata": {
    "tags": []
   },
   "outputs": [],
   "source": [
    "time_depth_model = time_depth_model[['depth_m','time', 'aragonite']]"
   ]
  },
  {
   "cell_type": "code",
   "execution_count": null,
   "id": "e34937f6-16b7-4de5-815f-88fc3cbd9f5e",
   "metadata": {
    "tags": []
   },
   "outputs": [],
   "source": [
    "var = source_var.split(\"_\")[0]\n",
    "time_depth_model.to_csv(f\"../out/time-depth-models/tdm_{source_name}_{var}_{ref}_out.csv\", index=False)"
   ]
  },
  {
   "cell_type": "code",
   "execution_count": null,
   "id": "4abec69d-a15b-44a0-acd2-d572540b6e41",
   "metadata": {},
   "outputs": [],
   "source": []
  },
  {
   "cell_type": "code",
   "execution_count": 3,
   "id": "91bd50eb-6e25-469b-8def-768c81d310f8",
   "metadata": {
    "tags": []
   },
   "outputs": [],
   "source": [
    "df = pd.read_csv(\"../out/time-depth-models/tdm_core_1150_d18O_split_1_core_1100_conventional_agemodel_out.csv\")"
   ]
  },
  {
   "cell_type": "code",
   "execution_count": 11,
   "id": "7f362cc7-dac8-498d-a01e-d69cb181960e",
   "metadata": {
    "tags": []
   },
   "outputs": [
    {
     "data": {
      "text/html": [
       "<div>\n",
       "<style scoped>\n",
       "    .dataframe tbody tr th:only-of-type {\n",
       "        vertical-align: middle;\n",
       "    }\n",
       "\n",
       "    .dataframe tbody tr th {\n",
       "        vertical-align: top;\n",
       "    }\n",
       "\n",
       "    .dataframe thead th {\n",
       "        text-align: right;\n",
       "    }\n",
       "</style>\n",
       "<table border=\"1\" class=\"dataframe\">\n",
       "  <thead>\n",
       "    <tr style=\"text-align: right;\">\n",
       "      <th></th>\n",
       "      <th>depth_m</th>\n",
       "      <th>time</th>\n",
       "      <th>d18O_pl</th>\n",
       "    </tr>\n",
       "  </thead>\n",
       "  <tbody>\n",
       "    <tr>\n",
       "      <th>0</th>\n",
       "      <td>0.01</td>\n",
       "      <td>0.00</td>\n",
       "      <td>-1.891</td>\n",
       "    </tr>\n",
       "    <tr>\n",
       "      <th>1</th>\n",
       "      <td>0.06</td>\n",
       "      <td>0.64</td>\n",
       "      <td>-1.525</td>\n",
       "    </tr>\n",
       "  </tbody>\n",
       "</table>\n",
       "</div>"
      ],
      "text/plain": [
       "   depth_m  time  d18O_pl\n",
       "0     0.01  0.00   -1.891\n",
       "1     0.06  0.64   -1.525"
      ]
     },
     "execution_count": 11,
     "metadata": {},
     "output_type": "execute_result"
    }
   ],
   "source": [
    "df.head(2)"
   ]
  },
  {
   "cell_type": "code",
   "execution_count": 5,
   "id": "f99a3859-be3f-42c2-a468-003182345f44",
   "metadata": {
    "tags": []
   },
   "outputs": [],
   "source": [
    "ref = pd.read_csv(\"../out/time-depth-models/tdm_core_1150_d18O_LR04stack_out.csv\")"
   ]
  },
  {
   "cell_type": "code",
   "execution_count": 8,
   "id": "336fa0fb-6b6b-4e4b-a2be-9e9c8e3fb836",
   "metadata": {
    "tags": []
   },
   "outputs": [
    {
     "data": {
      "text/html": [
       "<div>\n",
       "<style scoped>\n",
       "    .dataframe tbody tr th:only-of-type {\n",
       "        vertical-align: middle;\n",
       "    }\n",
       "\n",
       "    .dataframe tbody tr th {\n",
       "        vertical-align: top;\n",
       "    }\n",
       "\n",
       "    .dataframe thead th {\n",
       "        text-align: right;\n",
       "    }\n",
       "</style>\n",
       "<table border=\"1\" class=\"dataframe\">\n",
       "  <thead>\n",
       "    <tr style=\"text-align: right;\">\n",
       "      <th></th>\n",
       "      <th>depth_m</th>\n",
       "      <th>time</th>\n",
       "      <th>d18O_pl</th>\n",
       "    </tr>\n",
       "  </thead>\n",
       "  <tbody>\n",
       "    <tr>\n",
       "      <th>0</th>\n",
       "      <td>0.01</td>\n",
       "      <td>0.00</td>\n",
       "      <td>-1.891</td>\n",
       "    </tr>\n",
       "    <tr>\n",
       "      <th>1</th>\n",
       "      <td>0.06</td>\n",
       "      <td>0.64</td>\n",
       "      <td>-1.525</td>\n",
       "    </tr>\n",
       "  </tbody>\n",
       "</table>\n",
       "</div>"
      ],
      "text/plain": [
       "   depth_m  time  d18O_pl\n",
       "0     0.01  0.00   -1.891\n",
       "1     0.06  0.64   -1.525"
      ]
     },
     "execution_count": 8,
     "metadata": {},
     "output_type": "execute_result"
    }
   ],
   "source": [
    "ref.head(2)"
   ]
  },
  {
   "cell_type": "code",
   "execution_count": 10,
   "id": "eaddf7cf-91a9-4f46-887a-bf3ed92653cd",
   "metadata": {
    "tags": []
   },
   "outputs": [],
   "source": [
    "df['d18O_pl'] = df['depth_m'].map(dict(zip(ref['depth_m'], ref['d18O_pl'])))"
   ]
  },
  {
   "cell_type": "code",
   "execution_count": 12,
   "id": "b75272a8-28f9-4f89-8bae-28c0318409b2",
   "metadata": {
    "tags": []
   },
   "outputs": [
    {
     "data": {
      "text/plain": [
       "290"
      ]
     },
     "execution_count": 12,
     "metadata": {},
     "output_type": "execute_result"
    }
   ],
   "source": [
    "len(df)"
   ]
  },
  {
   "cell_type": "code",
   "execution_count": 13,
   "id": "de4e3693-8ce4-4b89-bc7d-0017c64a1942",
   "metadata": {
    "tags": []
   },
   "outputs": [],
   "source": [
    "df.to_csv(\"../out/time-depth-models/tdm_core_1150_d18O_split_1_core_1100_conventional_agemodel_out.csv\", index=False)"
   ]
  },
  {
   "cell_type": "code",
   "execution_count": 14,
   "id": "e8cbf571-eb08-4114-a824-38bc8ff73dfa",
   "metadata": {
    "tags": []
   },
   "outputs": [
    {
     "data": {
      "text/html": [
       "<div>\n",
       "<style scoped>\n",
       "    .dataframe tbody tr th:only-of-type {\n",
       "        vertical-align: middle;\n",
       "    }\n",
       "\n",
       "    .dataframe tbody tr th {\n",
       "        vertical-align: top;\n",
       "    }\n",
       "\n",
       "    .dataframe thead th {\n",
       "        text-align: right;\n",
       "    }\n",
       "</style>\n",
       "<table border=\"1\" class=\"dataframe\">\n",
       "  <thead>\n",
       "    <tr style=\"text-align: right;\">\n",
       "      <th></th>\n",
       "      <th>depth_m</th>\n",
       "      <th>time</th>\n",
       "      <th>d18O_pl</th>\n",
       "    </tr>\n",
       "  </thead>\n",
       "  <tbody>\n",
       "    <tr>\n",
       "      <th>0</th>\n",
       "      <td>0.01</td>\n",
       "      <td>0.000000</td>\n",
       "      <td>-1.891</td>\n",
       "    </tr>\n",
       "    <tr>\n",
       "      <th>1</th>\n",
       "      <td>0.06</td>\n",
       "      <td>0.640000</td>\n",
       "      <td>-1.525</td>\n",
       "    </tr>\n",
       "    <tr>\n",
       "      <th>2</th>\n",
       "      <td>0.11</td>\n",
       "      <td>1.280000</td>\n",
       "      <td>-2.421</td>\n",
       "    </tr>\n",
       "    <tr>\n",
       "      <th>3</th>\n",
       "      <td>0.16</td>\n",
       "      <td>1.920000</td>\n",
       "      <td>-2.422</td>\n",
       "    </tr>\n",
       "    <tr>\n",
       "      <th>4</th>\n",
       "      <td>0.21</td>\n",
       "      <td>2.560000</td>\n",
       "      <td>-1.562</td>\n",
       "    </tr>\n",
       "    <tr>\n",
       "      <th>...</th>\n",
       "      <td>...</td>\n",
       "      <td>...</td>\n",
       "      <td>...</td>\n",
       "    </tr>\n",
       "    <tr>\n",
       "      <th>285</th>\n",
       "      <td>14.26</td>\n",
       "      <td>109.443330</td>\n",
       "      <td>-1.092</td>\n",
       "    </tr>\n",
       "    <tr>\n",
       "      <th>286</th>\n",
       "      <td>14.31</td>\n",
       "      <td>110.302569</td>\n",
       "      <td>-1.349</td>\n",
       "    </tr>\n",
       "    <tr>\n",
       "      <th>287</th>\n",
       "      <td>14.36</td>\n",
       "      <td>110.302569</td>\n",
       "      <td>-0.961</td>\n",
       "    </tr>\n",
       "    <tr>\n",
       "      <th>288</th>\n",
       "      <td>14.41</td>\n",
       "      <td>110.302569</td>\n",
       "      <td>-1.186</td>\n",
       "    </tr>\n",
       "    <tr>\n",
       "      <th>289</th>\n",
       "      <td>14.46</td>\n",
       "      <td>110.302569</td>\n",
       "      <td>-0.924</td>\n",
       "    </tr>\n",
       "  </tbody>\n",
       "</table>\n",
       "<p>290 rows × 3 columns</p>\n",
       "</div>"
      ],
      "text/plain": [
       "     depth_m        time  d18O_pl\n",
       "0       0.01    0.000000   -1.891\n",
       "1       0.06    0.640000   -1.525\n",
       "2       0.11    1.280000   -2.421\n",
       "3       0.16    1.920000   -2.422\n",
       "4       0.21    2.560000   -1.562\n",
       "..       ...         ...      ...\n",
       "285    14.26  109.443330   -1.092\n",
       "286    14.31  110.302569   -1.349\n",
       "287    14.36  110.302569   -0.961\n",
       "288    14.41  110.302569   -1.186\n",
       "289    14.46  110.302569   -0.924\n",
       "\n",
       "[290 rows x 3 columns]"
      ]
     },
     "execution_count": 14,
     "metadata": {},
     "output_type": "execute_result"
    }
   ],
   "source": [
    " df"
   ]
  },
  {
   "cell_type": "markdown",
   "id": "9b84b525-aafe-408c-97f2-163320502a8f",
   "metadata": {},
   "source": [
    "#### Create combined age model for 1150"
   ]
  },
  {
   "cell_type": "code",
   "execution_count": 12,
   "id": "52505799-baf4-48b7-9f7a-8dcfce0e3bb8",
   "metadata": {
    "tags": []
   },
   "outputs": [],
   "source": [
    "df1 = pd.read_csv(\"../out/time-depth-models/tdm_core_1150_d18O_split_1_core_1100_conventional_agemodel_out.csv\")\n",
    "df2 = pd.read_csv(\"../out/time-depth-models/tdm_core_1150_d18O_bulk_split_1_core_1100_conventional_agemodel_out.csv\")\n",
    "df3 = pd.read_csv(\"../out/time-depth-models/tdm_core_1150_aragonite_split_1_core_1100_conventional_agemodel_out.csv\")"
   ]
  },
  {
   "cell_type": "code",
   "execution_count": 13,
   "id": "67c342ca-83e6-4ff4-9cd0-ad020c62e5c8",
   "metadata": {
    "tags": []
   },
   "outputs": [],
   "source": [
    "df0 = df1[['depth_m', 'time']].rename(columns={\"time\": \"time_d18O_pl\"})"
   ]
  },
  {
   "cell_type": "code",
   "execution_count": 14,
   "id": "ffbdf58e-3c09-45c3-8274-11e2f05ecd94",
   "metadata": {
    "tags": []
   },
   "outputs": [],
   "source": [
    "df0['time_d18O_bulk'] = df0['depth_m'].map(dict(zip(df2['depth_m'], df2['time'])))"
   ]
  },
  {
   "cell_type": "code",
   "execution_count": 15,
   "id": "af0e74f4-4034-41d4-8c6a-48de8c87eb15",
   "metadata": {
    "tags": []
   },
   "outputs": [],
   "source": [
    "df0['time_aragonite'] = df0['depth_m'].map(dict(zip(df3['depth_m'], df3['time'])))"
   ]
  },
  {
   "cell_type": "code",
   "execution_count": 16,
   "id": "43519b2c-f69d-461e-8c54-d2db6587a396",
   "metadata": {
    "tags": []
   },
   "outputs": [],
   "source": [
    "df0['time_d18O_bulk'] = df0['time_d18O_bulk'].interpolate(method=\"linear\")"
   ]
  },
  {
   "cell_type": "code",
   "execution_count": 17,
   "id": "1d7be01d-4b16-49df-8b30-735adc1443d9",
   "metadata": {
    "tags": []
   },
   "outputs": [],
   "source": [
    "df0['time_combined'] = (df0['time_aragonite'] + df0['time_d18O_pl'] + df0['time_d18O_bulk']) / 3"
   ]
  },
  {
   "cell_type": "code",
   "execution_count": 19,
   "id": "47923885-4a4b-4ee2-9228-0409bde85e20",
   "metadata": {
    "tags": []
   },
   "outputs": [],
   "source": [
    "df0 = df0.reset_index(drop=True)"
   ]
  },
  {
   "cell_type": "code",
   "execution_count": 23,
   "id": "17c58804-bae1-4088-923b-6630ef42065d",
   "metadata": {
    "tags": []
   },
   "outputs": [
    {
     "data": {
      "text/html": [
       "<div>\n",
       "<style scoped>\n",
       "    .dataframe tbody tr th:only-of-type {\n",
       "        vertical-align: middle;\n",
       "    }\n",
       "\n",
       "    .dataframe tbody tr th {\n",
       "        vertical-align: top;\n",
       "    }\n",
       "\n",
       "    .dataframe thead th {\n",
       "        text-align: right;\n",
       "    }\n",
       "</style>\n",
       "<table border=\"1\" class=\"dataframe\">\n",
       "  <thead>\n",
       "    <tr style=\"text-align: right;\">\n",
       "      <th></th>\n",
       "      <th>depth_m</th>\n",
       "      <th>time</th>\n",
       "    </tr>\n",
       "  </thead>\n",
       "  <tbody>\n",
       "    <tr>\n",
       "      <th>222</th>\n",
       "      <td>14.21</td>\n",
       "      <td>103.428661</td>\n",
       "    </tr>\n",
       "    <tr>\n",
       "      <th>223</th>\n",
       "      <td>14.26</td>\n",
       "      <td>104.287900</td>\n",
       "    </tr>\n",
       "    <tr>\n",
       "      <th>224</th>\n",
       "      <td>14.31</td>\n",
       "      <td>105.147138</td>\n",
       "    </tr>\n",
       "    <tr>\n",
       "      <th>225</th>\n",
       "      <td>14.41</td>\n",
       "      <td>105.147138</td>\n",
       "    </tr>\n",
       "    <tr>\n",
       "      <th>226</th>\n",
       "      <td>14.46</td>\n",
       "      <td>105.147138</td>\n",
       "    </tr>\n",
       "  </tbody>\n",
       "</table>\n",
       "</div>"
      ],
      "text/plain": [
       "     depth_m        time\n",
       "222    14.21  103.428661\n",
       "223    14.26  104.287900\n",
       "224    14.31  105.147138\n",
       "225    14.41  105.147138\n",
       "226    14.46  105.147138"
      ]
     },
     "execution_count": 23,
     "metadata": {},
     "output_type": "execute_result"
    }
   ],
   "source": [
    "df2.tail()"
   ]
  },
  {
   "cell_type": "code",
   "execution_count": 10,
   "id": "0e7a03f2-39ee-4817-9da6-40eaa309fca1",
   "metadata": {
    "tags": []
   },
   "outputs": [],
   "source": [
    "df0[['depth_m', 'time_combined']].to_csv(\"../out/time-depth-models/tdm_core_1150_combined_core_1100_conventional_agemodel_out.csv\", index=False)"
   ]
  },
  {
   "cell_type": "code",
   "execution_count": 11,
   "id": "49836ddf-67f3-4d91-b8b5-9dce2326fae4",
   "metadata": {
    "scrolled": true,
    "tags": []
   },
   "outputs": [
    {
     "data": {
      "text/html": [
       "<div>\n",
       "<style scoped>\n",
       "    .dataframe tbody tr th:only-of-type {\n",
       "        vertical-align: middle;\n",
       "    }\n",
       "\n",
       "    .dataframe tbody tr th {\n",
       "        vertical-align: top;\n",
       "    }\n",
       "\n",
       "    .dataframe thead th {\n",
       "        text-align: right;\n",
       "    }\n",
       "</style>\n",
       "<table border=\"1\" class=\"dataframe\">\n",
       "  <thead>\n",
       "    <tr style=\"text-align: right;\">\n",
       "      <th></th>\n",
       "      <th>depth_m</th>\n",
       "      <th>time_d18O_pl</th>\n",
       "      <th>time_d18O_bulk</th>\n",
       "      <th>time_aragonite</th>\n",
       "      <th>time_combined</th>\n",
       "    </tr>\n",
       "  </thead>\n",
       "  <tbody>\n",
       "    <tr>\n",
       "      <th>285</th>\n",
       "      <td>14.26</td>\n",
       "      <td>109.443330</td>\n",
       "      <td>104.287900</td>\n",
       "      <td>120.61343</td>\n",
       "      <td>111.448220</td>\n",
       "    </tr>\n",
       "    <tr>\n",
       "      <th>286</th>\n",
       "      <td>14.31</td>\n",
       "      <td>110.302569</td>\n",
       "      <td>105.147138</td>\n",
       "      <td>120.61343</td>\n",
       "      <td>112.021046</td>\n",
       "    </tr>\n",
       "    <tr>\n",
       "      <th>287</th>\n",
       "      <td>14.36</td>\n",
       "      <td>110.302569</td>\n",
       "      <td>105.147138</td>\n",
       "      <td>120.61343</td>\n",
       "      <td>112.021046</td>\n",
       "    </tr>\n",
       "    <tr>\n",
       "      <th>288</th>\n",
       "      <td>14.41</td>\n",
       "      <td>110.302569</td>\n",
       "      <td>105.147138</td>\n",
       "      <td>120.61343</td>\n",
       "      <td>112.021046</td>\n",
       "    </tr>\n",
       "    <tr>\n",
       "      <th>289</th>\n",
       "      <td>14.46</td>\n",
       "      <td>110.302569</td>\n",
       "      <td>105.147138</td>\n",
       "      <td>120.61343</td>\n",
       "      <td>112.021046</td>\n",
       "    </tr>\n",
       "  </tbody>\n",
       "</table>\n",
       "</div>"
      ],
      "text/plain": [
       "     depth_m  time_d18O_pl  time_d18O_bulk  time_aragonite  time_combined\n",
       "285    14.26    109.443330      104.287900       120.61343     111.448220\n",
       "286    14.31    110.302569      105.147138       120.61343     112.021046\n",
       "287    14.36    110.302569      105.147138       120.61343     112.021046\n",
       "288    14.41    110.302569      105.147138       120.61343     112.021046\n",
       "289    14.46    110.302569      105.147138       120.61343     112.021046"
      ]
     },
     "execution_count": 11,
     "metadata": {},
     "output_type": "execute_result"
    }
   ],
   "source": [
    "df0.tail()"
   ]
  },
  {
   "cell_type": "markdown",
   "id": "7b2e6639-d965-4ab5-86c9-c3db34c7938c",
   "metadata": {},
   "source": [
    "#### LR04stack"
   ]
  },
  {
   "cell_type": "code",
   "execution_count": 3,
   "id": "6b62057d-262f-46a6-8faa-67c16d4234fc",
   "metadata": {
    "tags": []
   },
   "outputs": [],
   "source": [
    "df1 = pd.read_csv(\"../out/time-depth-models/tdm_core_1150_d18O_LR04stack_out.csv\")\n",
    "df2 = pd.read_csv(\"../out/time-depth-models/tdm_core_1150_d18O_bulk_split_1_LR04stack_out.csv\")\n",
    "df3 = pd.read_csv(\"../out/time-depth-models/tdm_core_1150_aragonite_LR04stack_out.csv\")"
   ]
  },
  {
   "cell_type": "code",
   "execution_count": 4,
   "id": "33466b66-423e-4160-89a1-7bba8bc399a1",
   "metadata": {
    "tags": []
   },
   "outputs": [],
   "source": [
    "df0 = df1[['depth_m', 'time']].rename(columns={\"time\": \"time_d18O_pl\"})"
   ]
  },
  {
   "cell_type": "code",
   "execution_count": 5,
   "id": "30fba58b-a4ac-4e30-a765-108c6ad3cc4e",
   "metadata": {
    "tags": []
   },
   "outputs": [],
   "source": [
    "df0['time_d18O_bulk'] = df0['depth_m'].map(dict(zip(df2['depth_m'], df2['time'])))"
   ]
  },
  {
   "cell_type": "code",
   "execution_count": 6,
   "id": "33436b7a-e356-474b-8db9-b415caba88a0",
   "metadata": {
    "tags": []
   },
   "outputs": [],
   "source": [
    "df0['time_aragonite'] = df0['depth_m'].map(dict(zip(df3['depth_m'], df3['time'])))"
   ]
  },
  {
   "cell_type": "code",
   "execution_count": 7,
   "id": "fbcb94df-561b-4b6b-97b9-8da224796285",
   "metadata": {
    "tags": []
   },
   "outputs": [],
   "source": [
    "df0['time_d18O_bulk'] = df0['time_d18O_bulk'].interpolate(method=\"linear\")"
   ]
  },
  {
   "cell_type": "code",
   "execution_count": 9,
   "id": "74e07ac8-6466-40c9-a517-229de2ada3f5",
   "metadata": {
    "tags": []
   },
   "outputs": [],
   "source": [
    "df0['time_combined'] = (df0['time_aragonite'] + df0['time_d18O_pl'] + df0['time_d18O_bulk']) / 3"
   ]
  },
  {
   "cell_type": "code",
   "execution_count": 10,
   "id": "851b21f7-5a54-4872-9cf1-5864da998570",
   "metadata": {
    "tags": []
   },
   "outputs": [],
   "source": [
    "df0 = df0.reset_index(drop=True)"
   ]
  },
  {
   "cell_type": "code",
   "execution_count": 11,
   "id": "d54fe8fd-358c-4d48-ad3f-df323dbcfc91",
   "metadata": {
    "tags": []
   },
   "outputs": [],
   "source": [
    "df0[['depth_m', 'time_combined']].to_csv(\"../out/time-depth-models/tdm_core_1150_combined_LR04stack.csv\", index=False)"
   ]
  },
  {
   "cell_type": "code",
   "execution_count": 12,
   "id": "6d7784d4-1132-4ea5-baf2-f2cabd0d274f",
   "metadata": {
    "scrolled": true,
    "tags": []
   },
   "outputs": [
    {
     "data": {
      "text/html": [
       "<div>\n",
       "<style scoped>\n",
       "    .dataframe tbody tr th:only-of-type {\n",
       "        vertical-align: middle;\n",
       "    }\n",
       "\n",
       "    .dataframe tbody tr th {\n",
       "        vertical-align: top;\n",
       "    }\n",
       "\n",
       "    .dataframe thead th {\n",
       "        text-align: right;\n",
       "    }\n",
       "</style>\n",
       "<table border=\"1\" class=\"dataframe\">\n",
       "  <thead>\n",
       "    <tr style=\"text-align: right;\">\n",
       "      <th></th>\n",
       "      <th>depth_m</th>\n",
       "      <th>time_d18O_pl</th>\n",
       "      <th>time_d18O_bulk</th>\n",
       "      <th>time_aragonite</th>\n",
       "      <th>time_combined</th>\n",
       "    </tr>\n",
       "  </thead>\n",
       "  <tbody>\n",
       "    <tr>\n",
       "      <th>285</th>\n",
       "      <td>14.26</td>\n",
       "      <td>132.0</td>\n",
       "      <td>260.0</td>\n",
       "      <td>200.0</td>\n",
       "      <td>197.333333</td>\n",
       "    </tr>\n",
       "    <tr>\n",
       "      <th>286</th>\n",
       "      <td>14.31</td>\n",
       "      <td>133.0</td>\n",
       "      <td>261.0</td>\n",
       "      <td>200.0</td>\n",
       "      <td>198.000000</td>\n",
       "    </tr>\n",
       "    <tr>\n",
       "      <th>287</th>\n",
       "      <td>14.36</td>\n",
       "      <td>133.0</td>\n",
       "      <td>261.0</td>\n",
       "      <td>200.0</td>\n",
       "      <td>198.000000</td>\n",
       "    </tr>\n",
       "    <tr>\n",
       "      <th>288</th>\n",
       "      <td>14.41</td>\n",
       "      <td>134.0</td>\n",
       "      <td>261.0</td>\n",
       "      <td>200.0</td>\n",
       "      <td>198.333333</td>\n",
       "    </tr>\n",
       "    <tr>\n",
       "      <th>289</th>\n",
       "      <td>14.46</td>\n",
       "      <td>136.0</td>\n",
       "      <td>261.0</td>\n",
       "      <td>201.0</td>\n",
       "      <td>199.333333</td>\n",
       "    </tr>\n",
       "  </tbody>\n",
       "</table>\n",
       "</div>"
      ],
      "text/plain": [
       "     depth_m  time_d18O_pl  time_d18O_bulk  time_aragonite  time_combined\n",
       "285    14.26         132.0           260.0           200.0     197.333333\n",
       "286    14.31         133.0           261.0           200.0     198.000000\n",
       "287    14.36         133.0           261.0           200.0     198.000000\n",
       "288    14.41         134.0           261.0           200.0     198.333333\n",
       "289    14.46         136.0           261.0           201.0     199.333333"
      ]
     },
     "execution_count": 12,
     "metadata": {},
     "output_type": "execute_result"
    }
   ],
   "source": [
    "df0.tail()"
   ]
  },
  {
   "cell_type": "code",
   "execution_count": null,
   "id": "a395301c-716f-42a4-b31e-34247cc52495",
   "metadata": {},
   "outputs": [],
   "source": []
  }
 ],
 "metadata": {
  "kernelspec": {
   "display_name": "Python 3 (ipykernel)",
   "language": "python",
   "name": "python3"
  },
  "language_info": {
   "codemirror_mode": {
    "name": "ipython",
    "version": 3
   },
   "file_extension": ".py",
   "mimetype": "text/x-python",
   "name": "python",
   "nbconvert_exporter": "python",
   "pygments_lexer": "ipython3",
   "version": "3.10.6"
  }
 },
 "nbformat": 4,
 "nbformat_minor": 5
}
