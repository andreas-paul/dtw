{
 "cells": [
  {
   "cell_type": "code",
   "execution_count": 85,
   "id": "b2dcb0cd-24dc-488a-8751-5d89f4561b32",
   "metadata": {
    "tags": []
   },
   "outputs": [],
   "source": [
    "import os\n",
    "import sys\n",
    "import json\n",
    "import seaborn as sns\n",
    "import numpy as np\n",
    "import pandas as pd\n",
    "import matplotlib.pyplot as plt\n",
    "from loguru import logger as log\n",
    "from dtaidistance import dtw_visualisation as dtwvis"
   ]
  },
  {
   "cell_type": "code",
   "execution_count": 86,
   "id": "aed417f3-c60f-4827-81b7-34136fdb765b",
   "metadata": {
    "tags": []
   },
   "outputs": [],
   "source": [
    "# Custom packages\n",
    "from sediment_dtw import *\n",
    "from utils import convert_warp_path_to_timeseries\n",
    "from plotting import create_graph"
   ]
  },
  {
   "cell_type": "code",
   "execution_count": 87,
   "id": "9ba5a6e1-1232-40bf-9234-7edca631701e",
   "metadata": {
    "tags": []
   },
   "outputs": [],
   "source": [
    "log.remove()\n",
    "log.add(sys.stderr, level=\"DEBUG\");"
   ]
  },
  {
   "cell_type": "code",
   "execution_count": 88,
   "id": "f24a9ba2",
   "metadata": {
    "tags": []
   },
   "outputs": [
    {
     "name": "stdout",
     "output_type": "stream",
     "text": [
      "The autoreload extension is already loaded. To reload it, use:\n",
      "  %reload_ext autoreload\n"
     ]
    }
   ],
   "source": [
    "%load_ext autoreload\n",
    "%autoreload 2"
   ]
  },
  {
   "cell_type": "markdown",
   "id": "7bf55896-d5e3-4424-8792-b265333c37c7",
   "metadata": {},
   "source": [
    "#### Define initial parameters"
   ]
  },
  {
   "cell_type": "markdown",
   "id": "a474e167-02e8-47dd-a06e-199f14078870",
   "metadata": {},
   "source": [
    "For example, if biostratigraphic data indicates that the age of oldest sediments in the core cannot exceed 245,000 years, set the `max_age` variable to 245. Similarly, set the `min_age` variable to the minimum age you expect the core top to be. For piston core from the ocean bottom, it is a good idea to set this to 0, but if data is available, such as for example the topmost 10k years are missing, this variable can be set to start at something else than 0. "
   ]
  },
  {
   "cell_type": "code",
   "execution_count": 89,
   "id": "4599dd0e-48c0-4124-a2cf-fccc1a68ad0a",
   "metadata": {
    "tags": []
   },
   "outputs": [],
   "source": [
    "min_age = 71  # in kiloyears (kyrs) before present\n",
    "max_age = 600 # in kiloyears (kyrs) before present\n",
    "time_step = 5  # in kiloyears"
   ]
  },
  {
   "cell_type": "markdown",
   "id": "133e4875-bc5a-4095-ac9c-b24238143593",
   "metadata": {},
   "source": [
    "### Find optimal distance between two time-series"
   ]
  },
  {
   "cell_type": "markdown",
   "id": "253dcd5f-9805-4092-98cd-9fa16946141a",
   "metadata": {},
   "source": [
    "#### Run parameters"
   ]
  },
  {
   "cell_type": "markdown",
   "id": "2edcfced-8dab-4127-bece-cd12c788e2e1",
   "metadata": {},
   "source": [
    "Define the name, location and variable (column) names of the target/reference curve here."
   ]
  },
  {
   "cell_type": "code",
   "execution_count": 123,
   "id": "431ab708",
   "metadata": {
    "tags": []
   },
   "outputs": [],
   "source": [
    "# ref = \"LR04stack\"\n",
    "ref = \"core_1100_conventional_agemodel\"\n",
    "# ref = \"core_1100_dtw_agemodel\"\n",
    "ref_path = f'../data/{ref}.csv'\n",
    "ref_cols = ['time', 'd18O']"
   ]
  },
  {
   "cell_type": "markdown",
   "id": "d9d552e4-7613-494f-9c18-088bbda9f307",
   "metadata": {
    "tags": []
   },
   "source": [
    "#### Load target (reference) data and limit by `min_age` and `max_age`"
   ]
  },
  {
   "cell_type": "markdown",
   "id": "8b035e6e-4c2f-4b2e-9309-0d8fdd1fc868",
   "metadata": {},
   "source": [
    "Load target data, and filter by expected minimum and maximum age (`min_age`, `max_age`) "
   ]
  },
  {
   "cell_type": "code",
   "execution_count": 124,
   "id": "c921eeee-90d6-4c12-bebf-85987eeb6fdc",
   "metadata": {
    "tags": []
   },
   "outputs": [],
   "source": [
    "target = pd.read_csv(ref_path, usecols=ref_cols) \n",
    "target = target[target['time'] <= max_age]\n",
    "target = target[target['time'] >= min_age]"
   ]
  },
  {
   "cell_type": "markdown",
   "id": "7e869a5b-f3ae-42ad-aec6-2119a68da65a",
   "metadata": {},
   "source": [
    "The next step is only executed if the dtw_age model for this specific core is to be used, in this case 1100. This age model was created in a previous iteration of this method."
   ]
  },
  {
   "cell_type": "code",
   "execution_count": 125,
   "id": "c00b5d4c",
   "metadata": {
    "tags": []
   },
   "outputs": [],
   "source": [
    "if ref == \"core_1100_dtw_agemodel\":\n",
    "    log.debug(\"Resampling reference time curve\")\n",
    "    target = pd.DataFrame(target.groupby('time', as_index=False)['d18O'].median())"
   ]
  },
  {
   "cell_type": "code",
   "execution_count": 126,
   "id": "03d84414",
   "metadata": {
    "tags": []
   },
   "outputs": [],
   "source": [
    "target = target.reset_index(drop=True)"
   ]
  },
  {
   "cell_type": "code",
   "execution_count": 127,
   "id": "81e9f118-ac5b-47a7-88f8-1f0f487b761a",
   "metadata": {
    "tags": []
   },
   "outputs": [
    {
     "data": {
      "text/html": [
       "<div>\n",
       "<style scoped>\n",
       "    .dataframe tbody tr th:only-of-type {\n",
       "        vertical-align: middle;\n",
       "    }\n",
       "\n",
       "    .dataframe tbody tr th {\n",
       "        vertical-align: top;\n",
       "    }\n",
       "\n",
       "    .dataframe thead th {\n",
       "        text-align: right;\n",
       "    }\n",
       "</style>\n",
       "<table border=\"1\" class=\"dataframe\">\n",
       "  <thead>\n",
       "    <tr style=\"text-align: right;\">\n",
       "      <th></th>\n",
       "      <th>time</th>\n",
       "      <th>d18O</th>\n",
       "    </tr>\n",
       "  </thead>\n",
       "  <tbody>\n",
       "    <tr>\n",
       "      <th>0</th>\n",
       "      <td>71.636838</td>\n",
       "      <td>-1.538</td>\n",
       "    </tr>\n",
       "    <tr>\n",
       "      <th>1</th>\n",
       "      <td>72.496077</td>\n",
       "      <td>-1.848</td>\n",
       "    </tr>\n",
       "  </tbody>\n",
       "</table>\n",
       "</div>"
      ],
      "text/plain": [
       "        time   d18O\n",
       "0  71.636838 -1.538\n",
       "1  72.496077 -1.848"
      ]
     },
     "execution_count": 127,
     "metadata": {},
     "output_type": "execute_result"
    }
   ],
   "source": [
    "target.head(2)"
   ]
  },
  {
   "cell_type": "markdown",
   "id": "e6ea32ee-bf38-4339-b3e5-a730b80b567a",
   "metadata": {},
   "source": [
    "#### Load data curve (unknown time interval)"
   ]
  },
  {
   "cell_type": "code",
   "execution_count": 146,
   "id": "74fa5f5e-834b-4618-aa03-7bf758530ef5",
   "metadata": {
    "tags": []
   },
   "outputs": [],
   "source": [
    "# source = \"../data/core_1100_d18O_pl.csv\"\n",
    "# source = \"../data/core_1150_d18O_pl.csv\"\n",
    "# source = \"../data/core_1150_d18O_split_1.csv\"\n",
    "# source = \"../data/core_1150_aragonite_split_1.csv\"\n",
    "source = \"../data/core_1150_d18O_bulk_split_1.csv\" "
   ]
  },
  {
   "cell_type": "code",
   "execution_count": 147,
   "id": "6245da08-8a86-4a27-ac43-b00a457ec852",
   "metadata": {
    "tags": []
   },
   "outputs": [
    {
     "data": {
      "text/html": [
       "<div>\n",
       "<style scoped>\n",
       "    .dataframe tbody tr th:only-of-type {\n",
       "        vertical-align: middle;\n",
       "    }\n",
       "\n",
       "    .dataframe tbody tr th {\n",
       "        vertical-align: top;\n",
       "    }\n",
       "\n",
       "    .dataframe thead th {\n",
       "        text-align: right;\n",
       "    }\n",
       "</style>\n",
       "<table border=\"1\" class=\"dataframe\">\n",
       "  <thead>\n",
       "    <tr style=\"text-align: right;\">\n",
       "      <th></th>\n",
       "      <th>depth_m</th>\n",
       "      <th>d18O_bulk</th>\n",
       "    </tr>\n",
       "  </thead>\n",
       "  <tbody>\n",
       "    <tr>\n",
       "      <th>0</th>\n",
       "      <td>2.06</td>\n",
       "      <td>-1.136975</td>\n",
       "    </tr>\n",
       "    <tr>\n",
       "      <th>1</th>\n",
       "      <td>2.11</td>\n",
       "      <td>-1.552736</td>\n",
       "    </tr>\n",
       "  </tbody>\n",
       "</table>\n",
       "</div>"
      ],
      "text/plain": [
       "   depth_m  d18O_bulk\n",
       "0     2.06  -1.136975\n",
       "1     2.11  -1.552736"
      ]
     },
     "execution_count": 147,
     "metadata": {},
     "output_type": "execute_result"
    }
   ],
   "source": [
    "source_name = source.split(\"/\")\n",
    "source_name = source_name[-1].split(\"_\")[:2]\n",
    "source_name = \"_\".join(source_name)\n",
    "\n",
    "source_var = source.split(\"/\")\n",
    "source_var = source_var[-1].split(\"_\")[2:]\n",
    "source_var = \"_\".join(source_var)\n",
    "source_var = source_var.split(\".\")[0]\n",
    "\n",
    "data = pd.read_csv(source, skip_blank_lines=True)\n",
    "data.head(2)"
   ]
  },
  {
   "cell_type": "code",
   "execution_count": 148,
   "id": "ec25091d-4164-42fe-af5b-2f49ead717d8",
   "metadata": {
    "tags": []
   },
   "outputs": [
    {
     "data": {
      "text/plain": [
       "'core_1150'"
      ]
     },
     "execution_count": 148,
     "metadata": {},
     "output_type": "execute_result"
    }
   ],
   "source": [
    "source_name"
   ]
  },
  {
   "cell_type": "code",
   "execution_count": 149,
   "id": "fc227361-7407-4fc4-875a-02ef6284b7a0",
   "metadata": {
    "tags": []
   },
   "outputs": [
    {
     "data": {
      "text/plain": [
       "'d18O_bulk_split_1'"
      ]
     },
     "execution_count": 149,
     "metadata": {},
     "output_type": "execute_result"
    }
   ],
   "source": [
    "source_var"
   ]
  },
  {
   "cell_type": "code",
   "execution_count": 150,
   "id": "b5b59041-adb1-431e-9fff-bc5160f859ac",
   "metadata": {
    "tags": []
   },
   "outputs": [
    {
     "data": {
      "text/plain": [
       "'d18O_bulk'"
      ]
     },
     "execution_count": 150,
     "metadata": {},
     "output_type": "execute_result"
    }
   ],
   "source": [
    "data_col = data.columns[1]\n",
    "data_col"
   ]
  },
  {
   "cell_type": "markdown",
   "id": "aca841bd-240b-424f-83af-b2bf5fa69bd4",
   "metadata": {},
   "source": [
    "#### Define DTW object"
   ]
  },
  {
   "cell_type": "code",
   "execution_count": 151,
   "id": "b3eea604-3398-44ce-ac46-0e54eccc76d9",
   "metadata": {
    "tags": []
   },
   "outputs": [
    {
     "name": "stderr",
     "output_type": "stream",
     "text": [
      "2023-05-02 21:31:49.743 | DEBUG    | sediment_dtw:__init__:91 - Time-warp object created successfully!\n"
     ]
    }
   ],
   "source": [
    "dtw = SedimentDTW(target=target, \n",
    "                  data=data, \n",
    "                  normalize=True, \n",
    "                  smooth=True, \n",
    "                  window_size=11, \n",
    "                  polynomial=3)"
   ]
  },
  {
   "cell_type": "markdown",
   "id": "a6ca22fe-9502-43c9-85c1-4821f6444472",
   "metadata": {},
   "source": [
    "##### Find simple distance"
   ]
  },
  {
   "cell_type": "code",
   "execution_count": 152,
   "id": "78baea3b-230d-4dad-b699-0a23c2d112ac",
   "metadata": {
    "tags": []
   },
   "outputs": [
    {
     "name": "stdout",
     "output_type": "stream",
     "text": [
      "9.95\n"
     ]
    }
   ],
   "source": [
    "simple_distance = dtw.simple_distance()\n",
    "print(round(simple_distance, 2))"
   ]
  },
  {
   "cell_type": "markdown",
   "id": "ce3503c7-81d7-4777-9852-55adeefaffe8",
   "metadata": {},
   "source": [
    "##### Find minimum distance iteratively"
   ]
  },
  {
   "cell_type": "code",
   "execution_count": 153,
   "id": "8e2bcf2d-98f8-4100-8250-0ff429cc13fd",
   "metadata": {
    "tags": []
   },
   "outputs": [
    {
     "name": "stderr",
     "output_type": "stream",
     "text": [
      "2023-05-02 21:31:54.371 | DEBUG    | sediment_dtw:find_min_distance:194 - 5.094519765019432, 5.094519765019432\n"
     ]
    },
    {
     "name": "stdout",
     "output_type": "stream",
     "text": [
      "Found minimum distance: 5.09 at target time 106 kyrs\n"
     ]
    }
   ],
   "source": [
    "distance, time, min_distances = dtw.find_min_distance(min_age, max_age, time_step, warp_path=True)\n",
    "print(f'Found minimum distance: {round(distance, 2)} at target time {time} kyrs')"
   ]
  },
  {
   "cell_type": "markdown",
   "id": "dd7be1f2-f105-46c7-a761-a0c9d99d8d29",
   "metadata": {},
   "source": [
    "##### Save min_distances to file"
   ]
  },
  {
   "cell_type": "code",
   "execution_count": 154,
   "id": "5e825380-1cb1-4192-86a1-72e73aa43d33",
   "metadata": {
    "tags": []
   },
   "outputs": [],
   "source": [
    "_tmp_df = pd.DataFrame(min_distances.keys(),min_distances.values()).reset_index(drop=False).rename(columns={'index': 'distance', 0: 'time'})\n",
    "_tmp_df.to_csv(f\"../out/core_1150_min_distances_{source_var}_ref-{ref}.csv\", index=False)"
   ]
  },
  {
   "cell_type": "markdown",
   "id": "f1067307-cb1d-4d17-aec0-c068cb658b46",
   "metadata": {},
   "source": [
    "#### Plot min_distances"
   ]
  },
  {
   "cell_type": "markdown",
   "id": "aced1bc0-88a0-4351-a2f7-d731f11b78df",
   "metadata": {},
   "source": [
    "##### LR04stack"
   ]
  },
  {
   "cell_type": "code",
   "execution_count": 197,
   "id": "f8823e90-a9ce-4641-b069-a669ddec4188",
   "metadata": {
    "tags": []
   },
   "outputs": [
    {
     "name": "stderr",
     "output_type": "stream",
     "text": [
      "The PostScript backend does not support transparency; partially transparent artists will be rendered opaque.\n"
     ]
    },
    {
     "data": {
      "image/png": "[encoded data removed]",
      "text/plain": [
       "<Figure size 640x480 with 1 Axes>"
      ]
     },
     "metadata": {},
     "output_type": "display_data"
    }
   ],
   "source": [
    "for variable in ['d18O', 'd18O_bulk', 'aragonite']:\n",
    "    df = pd.read_csv(f\"../out/core_1150_min_distances_{variable}_split_1_ref-LR04stack.csv\")\n",
    "    ax = sns.lineplot(x=df['time'], y=df['distance'], data=df, label=variable)\n",
    "    plt.xlim(71, 600)\n",
    "    min_distance_index = df['distance'].idxmin()\n",
    "    ax.add_patch(plt.Circle((df.at[min_distance_index, 'time'], df.at[min_distance_index, 'distance']), 0.3, color=\"red\"))\n",
    "    ax.add_patch(plt.Circle((df.at[min_distance_index, 'time'], 5.0), 0.3, color=\"red\"))\n",
    "    plt.text(df.at[min_distance_index, 'time'], df.at[min_distance_index, 'distance'] - 0.5, round(df.at[min_distance_index, 'distance'], 2), horizontalalignment='right', size='medium', color='black')\n",
    "    plt.text(df.at[min_distance_index, 'time'], 4.2, round(df.at[min_distance_index, 'time'], 2), horizontalalignment='right', size='medium', color='black') \n",
    "fig = ax.get_figure()\n",
    "fig.savefig(f\"../out/min_distances_1150_{variable}_LR04stack.eps\")"
   ]
  },
  {
   "cell_type": "markdown",
   "id": "0b110415-c9fc-4277-9e3b-6f0911f298f2",
   "metadata": {},
   "source": [
    "##### 1100 conventional age model"
   ]
  },
  {
   "cell_type": "code",
   "execution_count": 198,
   "id": "5ab2e0dc-f075-44a9-a14a-732b9cfa132d",
   "metadata": {
    "tags": []
   },
   "outputs": [
    {
     "name": "stderr",
     "output_type": "stream",
     "text": [
      "The PostScript backend does not support transparency; partially transparent artists will be rendered opaque.\n"
     ]
    },
    {
     "data": {
      "image/png": "[encoded data removed]",
      "text/plain": [
       "<Figure size 640x480 with 1 Axes>"
      ]
     },
     "metadata": {},
     "output_type": "display_data"
    }
   ],
   "source": [
    "for variable in ['d18O', 'd18O_bulk', 'aragonite']:\n",
    "    df = pd.read_csv(f\"../out/core_1150_min_distances_{variable}_split_1_ref-core_1100_conventional_agemodel.csv\")\n",
    "    ax = sns.lineplot(x=df['time'], y=df['distance'], data=df, label=variable)\n",
    "    plt.xlim(71, 300)\n",
    "    min_distance_index = df['distance'].idxmin()\n",
    "    ax.add_patch(plt.Circle((df.at[min_distance_index, 'time'], df.at[min_distance_index, 'distance']), 0.3, color=\"red\"))\n",
    "    ax.add_patch(plt.Circle((df.at[min_distance_index, 'time'], 5.0), 0.3, color=\"red\"))\n",
    "    plt.text(df.at[min_distance_index, 'time'], df.at[min_distance_index, 'distance'] - 0.5, round(df.at[min_distance_index, 'distance'], 2), horizontalalignment='right', size='6', color='black')\n",
    "    plt.text(df.at[min_distance_index, 'time'], 4.2, round(df.at[min_distance_index, 'time'], 2), horizontalalignment='right', size='6', color='black')\n",
    "fig = ax.get_figure()\n",
    "fig.savefig(f\"../out/min_distances_1150_{variable}_1100-conventional.eps\")"
   ]
  },
  {
   "cell_type": "code",
   "execution_count": null,
   "id": "db647419-11eb-4d87-87f9-271c61adb57a",
   "metadata": {},
   "outputs": [],
   "source": []
  },
  {
   "cell_type": "code",
   "execution_count": null,
   "id": "2a045a94-5150-449d-a8c2-221aa5bf7253",
   "metadata": {},
   "outputs": [],
   "source": []
  },
  {
   "cell_type": "code",
   "execution_count": null,
   "id": "03e2e223-b937-4707-81e1-06ee0918c342",
   "metadata": {},
   "outputs": [],
   "source": []
  },
  {
   "cell_type": "code",
   "execution_count": null,
   "id": "43c85fea-bf1c-470f-863a-e2a11e67db41",
   "metadata": {},
   "outputs": [],
   "source": []
  },
  {
   "cell_type": "code",
   "execution_count": null,
   "id": "abc2dc1f-47f8-4410-b95d-b0d3df653743",
   "metadata": {},
   "outputs": [],
   "source": []
  },
  {
   "cell_type": "code",
   "execution_count": 106,
   "id": "d2982677",
   "metadata": {
    "tags": []
   },
   "outputs": [],
   "source": [
    "def select_all_pairs(warp_path, index):\n",
    "    pairs = list()\n",
    "    for pair in warp_path:\n",
    "        if pair[0] == index:\n",
    "            pairs.append(pair)\n",
    "    return pairs"
   ]
  },
  {
   "cell_type": "code",
   "execution_count": 107,
   "id": "a82fb1bd",
   "metadata": {
    "tags": []
   },
   "outputs": [],
   "source": [
    "def select_max_from_pairs(pairs):\n",
    "    values = list()\n",
    "    for pair in pairs:\n",
    "        values.append(pair[1])\n",
    "    return max(values)"
   ]
  },
  {
   "cell_type": "code",
   "execution_count": 108,
   "id": "f62e4ddb",
   "metadata": {
    "tags": []
   },
   "outputs": [],
   "source": [
    "def convert_warp_path_to_timeseries(target: Union[list, np.array, pd.Series], \n",
    "                                    data: Union[list, np.array, pd.Series],\n",
    "                                    warp_path: list[tuple]):\n",
    "    \n",
    "    dtw_time_axis = list()\n",
    "    for index, _ in enumerate(data):\n",
    "        pairs = select_all_pairs(warp_path, index)\n",
    "        maximum = select_max_from_pairs(pairs)\n",
    "        dtw_time_axis.append(target[maximum])\n",
    "\n",
    "    assert len(dtw_time_axis) == len(data)\n",
    "    return dtw_time_axis"
   ]
  },
  {
   "cell_type": "code",
   "execution_count": 109,
   "id": "1746bf5c",
   "metadata": {
    "tags": []
   },
   "outputs": [],
   "source": [
    "dtw_time_axis = convert_warp_path_to_timeseries(target['time'], data['depth_m'], dtw.best_path)"
   ]
  },
  {
   "cell_type": "code",
   "execution_count": 110,
   "id": "973aa8ce",
   "metadata": {
    "tags": []
   },
   "outputs": [],
   "source": [
    "data['time_dtw'] = dtw_time_axis"
   ]
  },
  {
   "cell_type": "code",
   "execution_count": 111,
   "id": "9cb152e7",
   "metadata": {
    "tags": []
   },
   "outputs": [],
   "source": [
    "# Tmp changes to make visualisation & comparison easier\n",
    "target['d18O_adjusted'] = target['d18O'] - 3\n",
    "tmp_target = target[target['time'] <= 275]"
   ]
  },
  {
   "cell_type": "code",
   "execution_count": 112,
   "id": "b13826bd",
   "metadata": {
    "tags": []
   },
   "outputs": [
    {
     "data": {
      "image/png": "[encoded data removed]",
      "text/plain": [
       "<Figure size 640x480 with 1 Axes>"
      ]
     },
     "metadata": {},
     "output_type": "display_data"
    }
   ],
   "source": [
    "ax = sns.lineplot(x=data['time_dtw'], y=data[data_col], data=data, estimator=None)\n",
    "sns.lineplot(x=tmp_target['time'], y=tmp_target['d18O_adjusted'], data=target, estimator=None)\n",
    "ax.invert_yaxis()"
   ]
  },
  {
   "cell_type": "code",
   "execution_count": 113,
   "id": "f75d3337-6659-4c45-98b0-8b26cf20a4b7",
   "metadata": {
    "tags": []
   },
   "outputs": [],
   "source": [
    "fig = ax.get_figure()\n",
    "fig.savefig(f\"../out/{data_col}_{ref}_{source_name}_out.eps\")"
   ]
  },
  {
   "cell_type": "code",
   "execution_count": 114,
   "id": "651f79d5-95ef-4c59-b180-64c348a75b7b",
   "metadata": {
    "tags": []
   },
   "outputs": [],
   "source": [
    "data.to_csv(f\"../out/{data_col}_{ref}_{source_name}_out.csv\", index=False)"
   ]
  },
  {
   "cell_type": "code",
   "execution_count": 115,
   "id": "8d2c80fe-74fa-40a9-8552-a665d29b427c",
   "metadata": {
    "tags": []
   },
   "outputs": [
    {
     "data": {
      "text/plain": [
       "Index(['depth_m', 'd18O_bulk', 'time_dtw'], dtype='object')"
      ]
     },
     "execution_count": 115,
     "metadata": {},
     "output_type": "execute_result"
    }
   ],
   "source": [
    "data.columns"
   ]
  },
  {
   "cell_type": "markdown",
   "id": "adc5a58e-fa19-4490-b4cc-432b3e4f2919",
   "metadata": {},
   "source": [
    "#### Combine conventional and DTW age model"
   ]
  },
  {
   "cell_type": "code",
   "execution_count": 117,
   "id": "eacb4c71-8e4f-4b23-9485-92ecd76eacc4",
   "metadata": {
    "tags": []
   },
   "outputs": [],
   "source": [
    "tmp = pd.read_csv(\"../data/core_1150_d18O_split_0.csv\")"
   ]
  },
  {
   "cell_type": "code",
   "execution_count": null,
   "id": "c995ea76-f8d3-4c9e-875c-9a311f24ae61",
   "metadata": {
    "tags": []
   },
   "outputs": [],
   "source": [
    "tmp = tmp.append(data, ignore_index=True)"
   ]
  },
  {
   "cell_type": "code",
   "execution_count": 118,
   "id": "2f191930-03db-423e-aa26-3a5d17e55cdf",
   "metadata": {
    "tags": []
   },
   "outputs": [
    {
     "data": {
      "text/html": [
       "<div>\n",
       "<style scoped>\n",
       "    .dataframe tbody tr th:only-of-type {\n",
       "        vertical-align: middle;\n",
       "    }\n",
       "\n",
       "    .dataframe tbody tr th {\n",
       "        vertical-align: top;\n",
       "    }\n",
       "\n",
       "    .dataframe thead th {\n",
       "        text-align: right;\n",
       "    }\n",
       "</style>\n",
       "<table border=\"1\" class=\"dataframe\">\n",
       "  <thead>\n",
       "    <tr style=\"text-align: right;\">\n",
       "      <th></th>\n",
       "      <th>depth_m</th>\n",
       "      <th>d18O_pl</th>\n",
       "      <th>age_model_conv</th>\n",
       "    </tr>\n",
       "  </thead>\n",
       "  <tbody>\n",
       "    <tr>\n",
       "      <th>0</th>\n",
       "      <td>0.01</td>\n",
       "      <td>-1.891</td>\n",
       "      <td>0.000000</td>\n",
       "    </tr>\n",
       "    <tr>\n",
       "      <th>1</th>\n",
       "      <td>0.06</td>\n",
       "      <td>-1.525</td>\n",
       "      <td>0.640000</td>\n",
       "    </tr>\n",
       "    <tr>\n",
       "      <th>2</th>\n",
       "      <td>0.11</td>\n",
       "      <td>-2.421</td>\n",
       "      <td>1.280000</td>\n",
       "    </tr>\n",
       "    <tr>\n",
       "      <th>3</th>\n",
       "      <td>0.16</td>\n",
       "      <td>-2.422</td>\n",
       "      <td>1.920000</td>\n",
       "    </tr>\n",
       "    <tr>\n",
       "      <th>4</th>\n",
       "      <td>0.21</td>\n",
       "      <td>-1.562</td>\n",
       "      <td>2.560000</td>\n",
       "    </tr>\n",
       "    <tr>\n",
       "      <th>5</th>\n",
       "      <td>0.26</td>\n",
       "      <td>-1.293</td>\n",
       "      <td>3.200000</td>\n",
       "    </tr>\n",
       "    <tr>\n",
       "      <th>6</th>\n",
       "      <td>0.31</td>\n",
       "      <td>-1.892</td>\n",
       "      <td>3.840000</td>\n",
       "    </tr>\n",
       "    <tr>\n",
       "      <th>7</th>\n",
       "      <td>0.36</td>\n",
       "      <td>-1.697</td>\n",
       "      <td>4.480000</td>\n",
       "    </tr>\n",
       "    <tr>\n",
       "      <th>8</th>\n",
       "      <td>0.41</td>\n",
       "      <td>-2.114</td>\n",
       "      <td>5.120000</td>\n",
       "    </tr>\n",
       "    <tr>\n",
       "      <th>9</th>\n",
       "      <td>0.46</td>\n",
       "      <td>-1.534</td>\n",
       "      <td>5.493333</td>\n",
       "    </tr>\n",
       "    <tr>\n",
       "      <th>10</th>\n",
       "      <td>0.51</td>\n",
       "      <td>-1.518</td>\n",
       "      <td>5.866667</td>\n",
       "    </tr>\n",
       "    <tr>\n",
       "      <th>11</th>\n",
       "      <td>0.56</td>\n",
       "      <td>-1.603</td>\n",
       "      <td>6.240000</td>\n",
       "    </tr>\n",
       "    <tr>\n",
       "      <th>12</th>\n",
       "      <td>0.61</td>\n",
       "      <td>-1.098</td>\n",
       "      <td>6.613333</td>\n",
       "    </tr>\n",
       "    <tr>\n",
       "      <th>13</th>\n",
       "      <td>0.66</td>\n",
       "      <td>-1.699</td>\n",
       "      <td>6.986667</td>\n",
       "    </tr>\n",
       "    <tr>\n",
       "      <th>14</th>\n",
       "      <td>0.71</td>\n",
       "      <td>-1.732</td>\n",
       "      <td>7.360000</td>\n",
       "    </tr>\n",
       "    <tr>\n",
       "      <th>15</th>\n",
       "      <td>0.76</td>\n",
       "      <td>-1.892</td>\n",
       "      <td>7.733333</td>\n",
       "    </tr>\n",
       "    <tr>\n",
       "      <th>16</th>\n",
       "      <td>0.81</td>\n",
       "      <td>-1.196</td>\n",
       "      <td>8.106667</td>\n",
       "    </tr>\n",
       "    <tr>\n",
       "      <th>17</th>\n",
       "      <td>0.86</td>\n",
       "      <td>-2.960</td>\n",
       "      <td>8.480000</td>\n",
       "    </tr>\n",
       "    <tr>\n",
       "      <th>18</th>\n",
       "      <td>0.91</td>\n",
       "      <td>-1.139</td>\n",
       "      <td>8.853333</td>\n",
       "    </tr>\n",
       "    <tr>\n",
       "      <th>19</th>\n",
       "      <td>0.96</td>\n",
       "      <td>-1.047</td>\n",
       "      <td>9.226667</td>\n",
       "    </tr>\n",
       "    <tr>\n",
       "      <th>20</th>\n",
       "      <td>1.01</td>\n",
       "      <td>-1.234</td>\n",
       "      <td>9.600000</td>\n",
       "    </tr>\n",
       "    <tr>\n",
       "      <th>21</th>\n",
       "      <td>1.06</td>\n",
       "      <td>-1.131</td>\n",
       "      <td>10.250000</td>\n",
       "    </tr>\n",
       "    <tr>\n",
       "      <th>22</th>\n",
       "      <td>1.11</td>\n",
       "      <td>-1.003</td>\n",
       "      <td>10.900000</td>\n",
       "    </tr>\n",
       "    <tr>\n",
       "      <th>23</th>\n",
       "      <td>1.16</td>\n",
       "      <td>-0.824</td>\n",
       "      <td>11.550000</td>\n",
       "    </tr>\n",
       "    <tr>\n",
       "      <th>24</th>\n",
       "      <td>1.21</td>\n",
       "      <td>-1.071</td>\n",
       "      <td>12.200000</td>\n",
       "    </tr>\n",
       "    <tr>\n",
       "      <th>25</th>\n",
       "      <td>1.26</td>\n",
       "      <td>-1.209</td>\n",
       "      <td>12.850000</td>\n",
       "    </tr>\n",
       "    <tr>\n",
       "      <th>26</th>\n",
       "      <td>1.31</td>\n",
       "      <td>-1.123</td>\n",
       "      <td>13.500000</td>\n",
       "    </tr>\n",
       "    <tr>\n",
       "      <th>27</th>\n",
       "      <td>1.36</td>\n",
       "      <td>-1.037</td>\n",
       "      <td>14.150000</td>\n",
       "    </tr>\n",
       "    <tr>\n",
       "      <th>28</th>\n",
       "      <td>1.41</td>\n",
       "      <td>-0.922</td>\n",
       "      <td>14.800000</td>\n",
       "    </tr>\n",
       "    <tr>\n",
       "      <th>29</th>\n",
       "      <td>1.46</td>\n",
       "      <td>-1.004</td>\n",
       "      <td>15.450000</td>\n",
       "    </tr>\n",
       "    <tr>\n",
       "      <th>30</th>\n",
       "      <td>1.51</td>\n",
       "      <td>-1.293</td>\n",
       "      <td>16.100000</td>\n",
       "    </tr>\n",
       "    <tr>\n",
       "      <th>31</th>\n",
       "      <td>1.56</td>\n",
       "      <td>-1.283</td>\n",
       "      <td>16.750000</td>\n",
       "    </tr>\n",
       "    <tr>\n",
       "      <th>32</th>\n",
       "      <td>1.61</td>\n",
       "      <td>-0.952</td>\n",
       "      <td>17.400000</td>\n",
       "    </tr>\n",
       "    <tr>\n",
       "      <th>33</th>\n",
       "      <td>1.66</td>\n",
       "      <td>-1.130</td>\n",
       "      <td>18.050000</td>\n",
       "    </tr>\n",
       "    <tr>\n",
       "      <th>34</th>\n",
       "      <td>1.71</td>\n",
       "      <td>-1.275</td>\n",
       "      <td>18.700000</td>\n",
       "    </tr>\n",
       "    <tr>\n",
       "      <th>35</th>\n",
       "      <td>1.76</td>\n",
       "      <td>-1.284</td>\n",
       "      <td>19.350000</td>\n",
       "    </tr>\n",
       "    <tr>\n",
       "      <th>36</th>\n",
       "      <td>1.81</td>\n",
       "      <td>-1.142</td>\n",
       "      <td>20.000000</td>\n",
       "    </tr>\n",
       "    <tr>\n",
       "      <th>37</th>\n",
       "      <td>1.86</td>\n",
       "      <td>-0.662</td>\n",
       "      <td>32.750000</td>\n",
       "    </tr>\n",
       "    <tr>\n",
       "      <th>38</th>\n",
       "      <td>1.91</td>\n",
       "      <td>-1.174</td>\n",
       "      <td>45.500000</td>\n",
       "    </tr>\n",
       "    <tr>\n",
       "      <th>39</th>\n",
       "      <td>1.96</td>\n",
       "      <td>-1.384</td>\n",
       "      <td>58.250000</td>\n",
       "    </tr>\n",
       "    <tr>\n",
       "      <th>40</th>\n",
       "      <td>2.01</td>\n",
       "      <td>-1.125</td>\n",
       "      <td>71.000000</td>\n",
       "    </tr>\n",
       "  </tbody>\n",
       "</table>\n",
       "</div>"
      ],
      "text/plain": [
       "    depth_m  d18O_pl  age_model_conv\n",
       "0      0.01   -1.891        0.000000\n",
       "1      0.06   -1.525        0.640000\n",
       "2      0.11   -2.421        1.280000\n",
       "3      0.16   -2.422        1.920000\n",
       "4      0.21   -1.562        2.560000\n",
       "5      0.26   -1.293        3.200000\n",
       "6      0.31   -1.892        3.840000\n",
       "7      0.36   -1.697        4.480000\n",
       "8      0.41   -2.114        5.120000\n",
       "9      0.46   -1.534        5.493333\n",
       "10     0.51   -1.518        5.866667\n",
       "11     0.56   -1.603        6.240000\n",
       "12     0.61   -1.098        6.613333\n",
       "13     0.66   -1.699        6.986667\n",
       "14     0.71   -1.732        7.360000\n",
       "15     0.76   -1.892        7.733333\n",
       "16     0.81   -1.196        8.106667\n",
       "17     0.86   -2.960        8.480000\n",
       "18     0.91   -1.139        8.853333\n",
       "19     0.96   -1.047        9.226667\n",
       "20     1.01   -1.234        9.600000\n",
       "21     1.06   -1.131       10.250000\n",
       "22     1.11   -1.003       10.900000\n",
       "23     1.16   -0.824       11.550000\n",
       "24     1.21   -1.071       12.200000\n",
       "25     1.26   -1.209       12.850000\n",
       "26     1.31   -1.123       13.500000\n",
       "27     1.36   -1.037       14.150000\n",
       "28     1.41   -0.922       14.800000\n",
       "29     1.46   -1.004       15.450000\n",
       "30     1.51   -1.293       16.100000\n",
       "31     1.56   -1.283       16.750000\n",
       "32     1.61   -0.952       17.400000\n",
       "33     1.66   -1.130       18.050000\n",
       "34     1.71   -1.275       18.700000\n",
       "35     1.76   -1.284       19.350000\n",
       "36     1.81   -1.142       20.000000\n",
       "37     1.86   -0.662       32.750000\n",
       "38     1.91   -1.174       45.500000\n",
       "39     1.96   -1.384       58.250000\n",
       "40     2.01   -1.125       71.000000"
      ]
     },
     "execution_count": 118,
     "metadata": {},
     "output_type": "execute_result"
    }
   ],
   "source": [
    "tmp"
   ]
  },
  {
   "cell_type": "code",
   "execution_count": null,
   "id": "3fe331ad-3dad-49f5-99bb-9884e0339c02",
   "metadata": {
    "tags": []
   },
   "outputs": [],
   "source": [
    "time_depth_model = data[['depth_m','time_dtw']]"
   ]
  },
  {
   "cell_type": "code",
   "execution_count": null,
   "id": "e34937f6-16b7-4de5-815f-88fc3cbd9f5e",
   "metadata": {
    "tags": []
   },
   "outputs": [],
   "source": [
    "time_depth_model.to_csv(f\"../out/tdm_{ref}_{source_name}.csv\", index=False)"
   ]
  },
  {
   "cell_type": "code",
   "execution_count": null,
   "id": "0515796d-1dd2-4e7a-b372-0bf334c6df83",
   "metadata": {},
   "outputs": [],
   "source": []
  }
 ],
 "metadata": {
  "kernelspec": {
   "display_name": "Python 3 (ipykernel)",
   "language": "python",
   "name": "python3"
  },
  "language_info": {
   "codemirror_mode": {
    "name": "ipython",
    "version": 3
   },
   "file_extension": ".py",
   "mimetype": "text/x-python",
   "name": "python",
   "nbconvert_exporter": "python",
   "pygments_lexer": "ipython3",
   "version": "3.10.6"
  }
 },
 "nbformat": 4,
 "nbformat_minor": 5
}
