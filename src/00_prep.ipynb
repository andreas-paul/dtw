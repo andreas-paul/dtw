{
 "cells": [
  {
   "cell_type": "code",
   "execution_count": 189,
   "id": "2ea386fa-d10b-4474-bf99-02a0631308bc",
   "metadata": {
    "tags": []
   },
   "outputs": [],
   "source": [
    "import os\n",
    "import sys\n",
    "import json\n",
    "import seaborn as sns\n",
    "import numpy as np\n",
    "import pandas as pd\n",
    "import matplotlib.pyplot as plt\n",
    "from loguru import logger as log"
   ]
  },
  {
   "cell_type": "markdown",
   "id": "8a6b4bd6-5838-4ac6-b20f-59d50b5b6dec",
   "metadata": {},
   "source": [
    "#### Load data"
   ]
  },
  {
   "cell_type": "code",
   "execution_count": 191,
   "id": "ea7a853a-0251-4f02-be25-5a566a10cd24",
   "metadata": {
    "tags": []
   },
   "outputs": [],
   "source": [
    "src_path_1150 = \"../data/core_1150_d18O_pl.csv\""
   ]
  },
  {
   "cell_type": "code",
   "execution_count": 192,
   "id": "ddd27f6d-8b55-48a3-9515-d3ec9dcb3f0a",
   "metadata": {
    "tags": []
   },
   "outputs": [],
   "source": [
    "df = pd.read_csv(src_path_1150)"
   ]
  },
  {
   "cell_type": "code",
   "execution_count": 193,
   "id": "8576b028-9472-44f5-bc41-2b9d5b01f4ec",
   "metadata": {
    "tags": []
   },
   "outputs": [],
   "source": [
    "age_markers = {0.41: 5.12, \n",
    "               1.01: 9.60,\n",
    "               1.81: 20.00,\n",
    "               2.01: 71.00\n",
    "              }"
   ]
  },
  {
   "cell_type": "markdown",
   "id": "e3686cb9-069c-42d8-b645-2fdab502367e",
   "metadata": {},
   "source": [
    "#### Assign age markers"
   ]
  },
  {
   "cell_type": "code",
   "execution_count": 194,
   "id": "84425af8-3cf7-4c58-8f40-c0bf74c7f14b",
   "metadata": {
    "tags": []
   },
   "outputs": [],
   "source": [
    "df['age_model_conv'] = df['depth_m'].map(age_markers)"
   ]
  },
  {
   "cell_type": "markdown",
   "id": "a54112d6-44ae-4751-b27e-6114f273ee65",
   "metadata": {
    "tags": []
   },
   "source": [
    "#### Interpolate partial age model"
   ]
  },
  {
   "cell_type": "code",
   "execution_count": 195,
   "id": "77f326e6-4fd2-47ec-9b52-729a026be7df",
   "metadata": {
    "tags": []
   },
   "outputs": [],
   "source": [
    "fill1 = np.linspace(0, 5.12, 8, endpoint=False)\n",
    "for x in range(0, 8):\n",
    "    df.at[x, 'age_model_conv'] = fill1[x]"
   ]
  },
  {
   "cell_type": "code",
   "execution_count": 196,
   "id": "164e8740-5dac-4da1-a63f-c49a4c4c757a",
   "metadata": {
    "tags": []
   },
   "outputs": [],
   "source": [
    "fill2 = np.linspace(5.12, 9.6, 12, endpoint=False)\n",
    "fill2 = fill2[1:]\n",
    "for x in range(0, 11):\n",
    "    df.at[x + 9, 'age_model_conv'] = fill2[x]"
   ]
  },
  {
   "cell_type": "code",
   "execution_count": 197,
   "id": "b6072357-1433-4985-9dec-6dc899b82c88",
   "metadata": {
    "tags": []
   },
   "outputs": [],
   "source": [
    "fill3 = np.linspace(9.6, 20, 16, endpoint=False)\n",
    "fill3 = fill3[1:]\n",
    "for x in range(0, 15):\n",
    "    df.at[x + 21, 'age_model_conv'] = fill3[x]"
   ]
  },
  {
   "cell_type": "code",
   "execution_count": 198,
   "id": "aa8bd3cf-668b-4c46-a388-3b008eb4fdb9",
   "metadata": {
    "tags": []
   },
   "outputs": [],
   "source": [
    "fill4 = np.linspace(20, 71, 4, endpoint=False)\n",
    "fill4 = fill4[1:]\n",
    "for x in range(0, 3):\n",
    "    df.at[x + 37, 'age_model_conv'] = fill4[x]"
   ]
  },
  {
   "cell_type": "markdown",
   "id": "6a3abe37-db55-40b6-94e3-ca525fa4784a",
   "metadata": {},
   "source": [
    "#### Split"
   ]
  },
  {
   "cell_type": "code",
   "execution_count": 199,
   "id": "bdf9a630-e3f4-4307-8a69-69573805a197",
   "metadata": {
    "tags": []
   },
   "outputs": [],
   "source": [
    "df_split_0 = df[~pd.isna(df['age_model_conv'])]\n",
    "df_split_1 = df[pd.isna(df['age_model_conv'])]"
   ]
  },
  {
   "cell_type": "code",
   "execution_count": 200,
   "id": "8ba38a0b-2bc9-44bd-b3fa-b1f1cdc95825",
   "metadata": {
    "tags": []
   },
   "outputs": [],
   "source": [
    "df_split_0.to_csv(\"../data/tmp_1150_split_0.csv\", index=False)\n",
    "df_split_1.to_csv(\"../data/tmp_1150_split_1.csv\", index=False)"
   ]
  }
 ],
 "metadata": {
  "kernelspec": {
   "display_name": "Python 3 (ipykernel)",
   "language": "python",
   "name": "python3"
  },
  "language_info": {
   "codemirror_mode": {
    "name": "ipython",
    "version": 3
   },
   "file_extension": ".py",
   "mimetype": "text/x-python",
   "name": "python",
   "nbconvert_exporter": "python",
   "pygments_lexer": "ipython3",
   "version": "3.10.6"
  }
 },
 "nbformat": 4,
 "nbformat_minor": 5
}
