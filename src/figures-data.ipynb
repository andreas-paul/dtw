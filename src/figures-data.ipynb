{
 "cells": [
  {
   "cell_type": "code",
   "execution_count": 2,
   "id": "82ad8823-7493-4971-b1d8-c2bde96bbca4",
   "metadata": {
    "tags": []
   },
   "outputs": [],
   "source": [
    "import os\n",
    "import pandas as pd\n",
    "import numpy as np\n",
    "import seaborn as sns\n",
    "import matplotlib\n",
    "import matplotlib.pyplot as plt\n",
    "import matplotlib.ticker as ticker\n",
    "matplotlib.use('cairo')"
   ]
  },
  {
   "cell_type": "code",
   "execution_count": 3,
   "id": "1c0b7b5e-249c-4b96-8102-2711cfa59dba",
   "metadata": {
    "tags": []
   },
   "outputs": [],
   "source": [
    "data_1100 = pd.read_excel(\"../data/Paul_etal_M74-4-1100.xlsx\")"
   ]
  },
  {
   "cell_type": "code",
   "execution_count": 4,
   "id": "475db0ea-d03b-4fd9-92e2-92fad73ba081",
   "metadata": {
    "tags": []
   },
   "outputs": [],
   "source": [
    "tdm = pd.read_csv(\"../out/tdm_LR04stack_core_1100.csv\")\n",
    "tdm= dict(zip(tdm['depth_m'], tdm['dtw_time [kyrs B.P.]']))"
   ]
  },
  {
   "cell_type": "code",
   "execution_count": 5,
   "id": "4dc75fa8-f498-456e-bf97-517581cbf467",
   "metadata": {},
   "outputs": [],
   "source": [
    "data_1100['age_ka_dtw']= data_1100['depth_m'].map(tdm)"
   ]
  },
  {
   "cell_type": "code",
   "execution_count": 6,
   "id": "26343dce-551a-46b4-8e3e-f3d95aeff357",
   "metadata": {
    "tags": []
   },
   "outputs": [
    {
     "data": {
      "text/html": [
       "<div>\n",
       "<style scoped>\n",
       "    .dataframe tbody tr th:only-of-type {\n",
       "        vertical-align: middle;\n",
       "    }\n",
       "\n",
       "    .dataframe tbody tr th {\n",
       "        vertical-align: top;\n",
       "    }\n",
       "\n",
       "    .dataframe thead th {\n",
       "        text-align: right;\n",
       "    }\n",
       "</style>\n",
       "<table border=\"1\" class=\"dataframe\">\n",
       "  <thead>\n",
       "    <tr style=\"text-align: right;\">\n",
       "      <th></th>\n",
       "      <th>depth_m</th>\n",
       "      <th>d13C_pl</th>\n",
       "      <th>d18O_pl</th>\n",
       "      <th>age_ka</th>\n",
       "      <th>aragonite_%</th>\n",
       "      <th>low-magnesium-calcite_%</th>\n",
       "      <th>high-magnesium-calcite_%</th>\n",
       "      <th>sedimentation-rates_cm/ka</th>\n",
       "      <th>d13C_bulk</th>\n",
       "      <th>d18O_bulk</th>\n",
       "      <th>...</th>\n",
       "      <th>a*</th>\n",
       "      <th>b*</th>\n",
       "      <th>laser-mean</th>\n",
       "      <th>laser-sorting</th>\n",
       "      <th>laser-skewness</th>\n",
       "      <th>laser-kurtosis</th>\n",
       "      <th>laser-sand</th>\n",
       "      <th>laser-mud</th>\n",
       "      <th>laser-median</th>\n",
       "      <th>age_ka_dtw</th>\n",
       "    </tr>\n",
       "  </thead>\n",
       "  <tbody>\n",
       "    <tr>\n",
       "      <th>0</th>\n",
       "      <td>0.01</td>\n",
       "      <td>0.633</td>\n",
       "      <td>-1.924</td>\n",
       "      <td>0.000000</td>\n",
       "      <td>NaN</td>\n",
       "      <td>NaN</td>\n",
       "      <td>NaN</td>\n",
       "      <td>2.779001</td>\n",
       "      <td>NaN</td>\n",
       "      <td>NaN</td>\n",
       "      <td>...</td>\n",
       "      <td>0.3491</td>\n",
       "      <td>11.4708</td>\n",
       "      <td>100.20</td>\n",
       "      <td>4.403</td>\n",
       "      <td>-0.255</td>\n",
       "      <td>0.967</td>\n",
       "      <td>0.668</td>\n",
       "      <td>0.332</td>\n",
       "      <td>121.10</td>\n",
       "      <td>0.0</td>\n",
       "    </tr>\n",
       "    <tr>\n",
       "      <th>1</th>\n",
       "      <td>0.06</td>\n",
       "      <td>0.724</td>\n",
       "      <td>-2.673</td>\n",
       "      <td>0.899604</td>\n",
       "      <td>NaN</td>\n",
       "      <td>NaN</td>\n",
       "      <td>NaN</td>\n",
       "      <td>2.779001</td>\n",
       "      <td>1.010265</td>\n",
       "      <td>-0.877167</td>\n",
       "      <td>...</td>\n",
       "      <td>0.4246</td>\n",
       "      <td>11.3536</td>\n",
       "      <td>128.00</td>\n",
       "      <td>4.428</td>\n",
       "      <td>-0.230</td>\n",
       "      <td>0.990</td>\n",
       "      <td>0.716</td>\n",
       "      <td>0.284</td>\n",
       "      <td>149.30</td>\n",
       "      <td>0.0</td>\n",
       "    </tr>\n",
       "    <tr>\n",
       "      <th>2</th>\n",
       "      <td>0.11</td>\n",
       "      <td>1.182</td>\n",
       "      <td>-2.551</td>\n",
       "      <td>1.799208</td>\n",
       "      <td>70.05</td>\n",
       "      <td>17.03</td>\n",
       "      <td>12.92</td>\n",
       "      <td>2.779001</td>\n",
       "      <td>1.132131</td>\n",
       "      <td>-1.946140</td>\n",
       "      <td>...</td>\n",
       "      <td>0.3260</td>\n",
       "      <td>12.5530</td>\n",
       "      <td>54.37</td>\n",
       "      <td>4.071</td>\n",
       "      <td>0.047</td>\n",
       "      <td>1.006</td>\n",
       "      <td>0.427</td>\n",
       "      <td>0.573</td>\n",
       "      <td>48.61</td>\n",
       "      <td>0.0</td>\n",
       "    </tr>\n",
       "    <tr>\n",
       "      <th>3</th>\n",
       "      <td>0.16</td>\n",
       "      <td>0.999</td>\n",
       "      <td>-2.537</td>\n",
       "      <td>3.598416</td>\n",
       "      <td>69.52</td>\n",
       "      <td>17.63</td>\n",
       "      <td>12.85</td>\n",
       "      <td>2.779001</td>\n",
       "      <td>1.068054</td>\n",
       "      <td>-1.792067</td>\n",
       "      <td>...</td>\n",
       "      <td>-0.0272</td>\n",
       "      <td>12.9316</td>\n",
       "      <td>88.48</td>\n",
       "      <td>4.707</td>\n",
       "      <td>-0.017</td>\n",
       "      <td>0.754</td>\n",
       "      <td>0.555</td>\n",
       "      <td>0.446</td>\n",
       "      <td>81.62</td>\n",
       "      <td>1.0</td>\n",
       "    </tr>\n",
       "    <tr>\n",
       "      <th>4</th>\n",
       "      <td>0.21</td>\n",
       "      <td>1.005</td>\n",
       "      <td>-2.290</td>\n",
       "      <td>5.397624</td>\n",
       "      <td>68.07</td>\n",
       "      <td>18.97</td>\n",
       "      <td>12.96</td>\n",
       "      <td>2.779001</td>\n",
       "      <td>1.083677</td>\n",
       "      <td>-1.977233</td>\n",
       "      <td>...</td>\n",
       "      <td>0.3398</td>\n",
       "      <td>13.2034</td>\n",
       "      <td>110.30</td>\n",
       "      <td>4.461</td>\n",
       "      <td>-0.266</td>\n",
       "      <td>0.773</td>\n",
       "      <td>0.625</td>\n",
       "      <td>0.375</td>\n",
       "      <td>138.10</td>\n",
       "      <td>2.0</td>\n",
       "    </tr>\n",
       "  </tbody>\n",
       "</table>\n",
       "<p>5 rows × 23 columns</p>\n",
       "</div>"
      ],
      "text/plain": [
       "   depth_m  d13C_pl  d18O_pl    age_ka  aragonite_%  low-magnesium-calcite_%  \\\n",
       "0     0.01    0.633   -1.924  0.000000          NaN                      NaN   \n",
       "1     0.06    0.724   -2.673  0.899604          NaN                      NaN   \n",
       "2     0.11    1.182   -2.551  1.799208        70.05                    17.03   \n",
       "3     0.16    0.999   -2.537  3.598416        69.52                    17.63   \n",
       "4     0.21    1.005   -2.290  5.397624        68.07                    18.97   \n",
       "\n",
       "   high-magnesium-calcite_%  sedimentation-rates_cm/ka  d13C_bulk  d18O_bulk  \\\n",
       "0                       NaN                   2.779001        NaN        NaN   \n",
       "1                       NaN                   2.779001   1.010265  -0.877167   \n",
       "2                     12.92                   2.779001   1.132131  -1.946140   \n",
       "3                     12.85                   2.779001   1.068054  -1.792067   \n",
       "4                     12.96                   2.779001   1.083677  -1.977233   \n",
       "\n",
       "   ...      a*       b*  laser-mean  laser-sorting  laser-skewness  \\\n",
       "0  ...  0.3491  11.4708      100.20          4.403          -0.255   \n",
       "1  ...  0.4246  11.3536      128.00          4.428          -0.230   \n",
       "2  ...  0.3260  12.5530       54.37          4.071           0.047   \n",
       "3  ... -0.0272  12.9316       88.48          4.707          -0.017   \n",
       "4  ...  0.3398  13.2034      110.30          4.461          -0.266   \n",
       "\n",
       "   laser-kurtosis  laser-sand  laser-mud  laser-median  age_ka_dtw  \n",
       "0           0.967       0.668      0.332        121.10         0.0  \n",
       "1           0.990       0.716      0.284        149.30         0.0  \n",
       "2           1.006       0.427      0.573         48.61         0.0  \n",
       "3           0.754       0.555      0.446         81.62         1.0  \n",
       "4           0.773       0.625      0.375        138.10         2.0  \n",
       "\n",
       "[5 rows x 23 columns]"
      ]
     },
     "execution_count": 6,
     "metadata": {},
     "output_type": "execute_result"
    }
   ],
   "source": [
    "data_1100.head()"
   ]
  },
  {
   "cell_type": "code",
   "execution_count": 7,
   "id": "d2794a63-5be1-4dfb-9887-565c44021f37",
   "metadata": {
    "tags": []
   },
   "outputs": [],
   "source": [
    "data_1100 = data_1100[['depth_m','age_ka','age_ka_dtw', 'd13C_pl', 'd18O_pl',  'aragonite_%',\n",
    "       'low-magnesium-calcite_%', 'high-magnesium-calcite_%',\n",
    "       'sedimentation-rates_cm/ka', 'd13C_bulk', 'd18O_bulk',\n",
    "       'sieve-coarse->63ym_%', 'sieve-fine-<=63ym_%', 'L*', 'a*', 'b*',\n",
    "       'laser-mean', 'laser-sorting', 'laser-skewness', 'laser-kurtosis',\n",
    "       'laser-sand', 'laser-mud', 'laser-median']]"
   ]
  },
  {
   "cell_type": "code",
   "execution_count": 8,
   "id": "6debd6d2-b57d-47ce-8896-a41414638b01",
   "metadata": {
    "tags": []
   },
   "outputs": [],
   "source": [
    "data_1100.to_excel('../out/data_1100.xlsx')"
   ]
  },
  {
   "cell_type": "code",
   "execution_count": null,
   "id": "ff278f26-953d-42f3-8ba6-d4e02084c3b5",
   "metadata": {},
   "outputs": [],
   "source": []
  },
  {
   "cell_type": "code",
   "execution_count": 9,
   "id": "92fc36dd-f75e-47c7-996f-cadd1995f0b3",
   "metadata": {
    "tags": []
   },
   "outputs": [],
   "source": [
    "data_1150 = pd.read_excel(\"../data/Paul_etal_M74-4-1150.xlsx\")"
   ]
  },
  {
   "cell_type": "code",
   "execution_count": 10,
   "id": "74d3c112-332d-4883-b956-4441427c7acc",
   "metadata": {
    "tags": []
   },
   "outputs": [
    {
     "data": {
      "text/plain": [
       "Index(['depth_m', 'age_ka/before-present', 'sedimentation-rates_cm/ka',\n",
       "       'aragonite_%', 'low-magnesium-calcite_%', 'high-magnesium-calcite_%',\n",
       "       'pore-water_%', 'organic-carbon_thermo-gravimetry_%',\n",
       "       'total-organic-carbon_thermo-gravimetry_%',\n",
       "       'calcium-carbonate_thermo-gravimetry_%', 'total-carbon_Flash-EA1112_%',\n",
       "       'total-organic-carbon_Flash-EA1112_%', 'total-nitrogen_Flash-EA1112_%',\n",
       "       'calcium-carbonate_Flash-EA1112_%', 'sieve->500ym_%',\n",
       "       'sieve-355-500ym_%', 'sieve-250-355ym_%', 'sieve-125-250ym_%',\n",
       "       'sieve-63-125ym_%', 'sieve-<63ym_%', 'laser-<63ym_%',\n",
       "       'laser-63-125ym_%', 'laser-125-250ym_%', 'laser-250-500ym_%',\n",
       "       'laser->500ym_%', 'd18O_pl', 'd13C_pl', 'd13C_bulk', 'd18O_bulk', 'L*',\n",
       "       'a*', 'b*', 'laser-mean', 'laser-sorting', 'laser-skewness',\n",
       "       'laser-kurtosis', 'laser-median'],\n",
       "      dtype='object')"
      ]
     },
     "execution_count": 10,
     "metadata": {},
     "output_type": "execute_result"
    }
   ],
   "source": [
    "data_1150.columns"
   ]
  },
  {
   "cell_type": "code",
   "execution_count": 11,
   "id": "482ef95f-0d98-45fb-9663-16302d8df2dd",
   "metadata": {
    "tags": []
   },
   "outputs": [],
   "source": [
    "tdm_1150 = pd.read_csv('../out/tdm_core_1100_as_ref_core_1150.csv')\n",
    "tdm_1150 = dict(zip(tdm_1150['depth_m'], tdm_1150['dtw_time [kyrs B.P.]']))"
   ]
  },
  {
   "cell_type": "code",
   "execution_count": 12,
   "id": "167df0c0-04e5-4f9e-a54f-cee05569c763",
   "metadata": {
    "tags": []
   },
   "outputs": [],
   "source": [
    "data_1150['age_ka_dtw_1100']= data_1150['depth_m'].map(tdm_1150)"
   ]
  },
  {
   "cell_type": "code",
   "execution_count": 13,
   "id": "399729a1-780f-4295-9679-b9c2e35cd3e0",
   "metadata": {},
   "outputs": [],
   "source": [
    "data_1150 = data_1150[['depth_m', 'age_ka_dtw_1100',\n",
    "       'aragonite_%', 'low-magnesium-calcite_%', 'high-magnesium-calcite_%',\n",
    "       'pore-water_%', 'organic-carbon_thermo-gravimetry_%',\n",
    "       'total-organic-carbon_thermo-gravimetry_%',\n",
    "       'calcium-carbonate_thermo-gravimetry_%', 'total-carbon_Flash-EA1112_%',\n",
    "       'total-organic-carbon_Flash-EA1112_%', 'total-nitrogen_Flash-EA1112_%',\n",
    "       'calcium-carbonate_Flash-EA1112_%', 'sieve->500ym_%',\n",
    "       'sieve-355-500ym_%', 'sieve-250-355ym_%', 'sieve-125-250ym_%',\n",
    "       'sieve-63-125ym_%', 'sieve-<63ym_%', 'laser-<63ym_%',\n",
    "       'laser-63-125ym_%', 'laser-125-250ym_%', 'laser-250-500ym_%',\n",
    "       'laser->500ym_%', 'd18O_pl', 'd13C_pl', 'd13C_bulk', 'd18O_bulk', 'L*',\n",
    "       'a*', 'b*', 'laser-mean', 'laser-sorting', 'laser-skewness',\n",
    "       'laser-kurtosis', 'laser-median','age_ka/before-present', 'sedimentation-rates_cm/ka',]]"
   ]
  },
  {
   "cell_type": "code",
   "execution_count": 14,
   "id": "a64b029b-bd1f-4581-9686-f43bb2377f0b",
   "metadata": {
    "tags": []
   },
   "outputs": [],
   "source": [
    "data_1150.to_excel('data_1150.xlsx')"
   ]
  },
  {
   "cell_type": "code",
   "execution_count": 15,
   "id": "c5e9db8e-698d-4bcf-b791-253f5ee2c8d6",
   "metadata": {
    "tags": []
   },
   "outputs": [
    {
     "data": {
      "text/plain": [
       "<Axes: xlabel='age_ka_dtw_1100', ylabel='calcium-carbonate_thermo-gravimetry_%'>"
      ]
     },
     "execution_count": 15,
     "metadata": {},
     "output_type": "execute_result"
    }
   ],
   "source": [
    "fig, ax = plt.subplots(8, sharex=True, figsize=(10,10))\n",
    "\n",
    "# 1100\n",
    "sns.lineplot(ax=ax[0], x='age_ka_dtw', y='aragonite_%', data=data_1100, estimator=None)\n",
    "sns.lineplot(ax=ax[1], x='age_ka_dtw', y='high-magnesium-calcite_%', data=data_1100, estimator=None)\n",
    "sns.lineplot(ax=ax[2], x='age_ka_dtw', y='d13C_pl', data=data_1100, estimator=None)\n",
    "sns.lineplot(ax=ax[3], x='age_ka_dtw', y='d13C_bulk', data=data_1100, estimator=None)\n",
    "sns.lineplot(ax=ax[4], x='age_ka_dtw', y='sieve-fine-<=63ym_%', data=data_1100, estimator=None)\n",
    "\n",
    "# 1150 \n",
    "sns.lineplot(ax=ax[0], x='age_ka_dtw_1100', y='aragonite_%', data=data_1150, estimator=None)\n",
    "sns.lineplot(ax=ax[1], x='age_ka_dtw_1100', y='high-magnesium-calcite_%', data=data_1150, estimator=None)\n",
    "sns.lineplot(ax=ax[2], x='age_ka_dtw_1100', y='d13C_pl', data=data_1150, estimator=None)\n",
    "sns.lineplot(ax=ax[3], x='age_ka_dtw_1100', y='d13C_bulk', data=data_1150, estimator=None)\n",
    "sns.lineplot(ax=ax[4], x='age_ka_dtw_1100', y='sieve-<63ym_%', data=data_1150, estimator=None)\n",
    "sns.lineplot(ax=ax[5], x='age_ka_dtw_1100', y='organic-carbon_thermo-gravimetry_%', data=data_1150, estimator=None)\n",
    "sns.lineplot(ax=ax[6], x='age_ka_dtw_1100', y='total-organic-carbon_thermo-gravimetry_%', data=data_1150, estimator=None)\n",
    "sns.lineplot(ax=ax[7], x='age_ka_dtw_1100', y='calcium-carbonate_thermo-gravimetry_%', data=data_1150, estimator=None)\n",
    "\n"
   ]
  },
  {
   "cell_type": "code",
   "execution_count": 16,
   "id": "772df787-6058-4dbd-96db-0f8429470815",
   "metadata": {},
   "outputs": [],
   "source": [
    "fig.savefig('../out/data_figure.svg')"
   ]
  },
  {
   "cell_type": "code",
   "execution_count": 17,
   "id": "fdf4f83e-2b22-4d5f-9752-9c5414215c50",
   "metadata": {
    "tags": []
   },
   "outputs": [],
   "source": [
    "fig.savefig('../out/data_figure.eps')"
   ]
  },
  {
   "cell_type": "code",
   "execution_count": null,
   "id": "5f637b48-fa80-4041-a918-8fc8d9350ef2",
   "metadata": {},
   "outputs": [],
   "source": []
  },
  {
   "cell_type": "code",
   "execution_count": null,
   "id": "26991684-1429-466a-ac81-281d97287591",
   "metadata": {},
   "outputs": [],
   "source": []
  },
  {
   "cell_type": "code",
   "execution_count": null,
   "id": "292e49ca-4edb-469c-b7fb-1652a6f52225",
   "metadata": {},
   "outputs": [],
   "source": []
  }
 ],
 "metadata": {
  "kernelspec": {
   "display_name": "Python 3 (ipykernel)",
   "language": "python",
   "name": "python3"
  },
  "language_info": {
   "codemirror_mode": {
    "name": "ipython",
    "version": 3
   },
   "file_extension": ".py",
   "mimetype": "text/x-python",
   "name": "python",
   "nbconvert_exporter": "python",
   "pygments_lexer": "ipython3",
   "version": "3.10.8"
  }
 },
 "nbformat": 4,
 "nbformat_minor": 5
}
