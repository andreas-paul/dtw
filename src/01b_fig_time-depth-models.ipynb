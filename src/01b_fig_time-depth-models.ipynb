{
 "cells": [
  {
   "cell_type": "code",
   "execution_count": 1,
   "id": "a6b0fd44-c576-4c67-a7df-e3dbe471f1cf",
   "metadata": {
    "tags": []
   },
   "outputs": [],
   "source": [
    "import os\n",
    "import pandas as pd\n",
    "import numpy as np\n",
    "import seaborn as sns\n",
    "import matplotlib.pyplot as plt\n",
    "import matplotlib.ticker as ticker"
   ]
  },
  {
   "cell_type": "code",
   "execution_count": null,
   "id": "72f4de90-3784-4018-aa88-4212168abaed",
   "metadata": {},
   "outputs": [],
   "source": []
  },
  {
   "cell_type": "code",
   "execution_count": null,
   "id": "aad2913c-c9bf-437e-b4a1-20d2823662c1",
   "metadata": {},
   "outputs": [],
   "source": [
    "fig, ax = plt.subplots(1,1)\n",
    "sns.lineplot(ax=ax, x='dtw_time [kyrs B.P.]', y='depth_m', data=df3, label='1100')\n",
    "sns.lineplot(ax=ax, x='dtw_time [kyrs B.P.]', y='depth_m', data=df4, label='1150')\n",
    "sns.lineplot(ax=ax, x='dtw_time [kyrs B.P.]', y='depth_m', data=df2, label='1150 (1100 age model)')\n",
    "sns.lineplot(ax=ax, x='time', y='depth_m', data=old_model_1100, label='1100 (manual age model)')\n",
    "ax.invert_yaxis()"
   ]
  }
 ],
 "metadata": {
  "kernelspec": {
   "display_name": "Python 3 (ipykernel)",
   "language": "python",
   "name": "python3"
  },
  "language_info": {
   "codemirror_mode": {
    "name": "ipython",
    "version": 3
   },
   "file_extension": ".py",
   "mimetype": "text/x-python",
   "name": "python",
   "nbconvert_exporter": "python",
   "pygments_lexer": "ipython3",
   "version": "3.10.6"
  }
 },
 "nbformat": 4,
 "nbformat_minor": 5
}
